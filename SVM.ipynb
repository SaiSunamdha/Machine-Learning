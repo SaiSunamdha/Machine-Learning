{
 "cells": [
  {
   "cell_type": "markdown",
   "metadata": {},
   "source": [
    "# 4 a"
   ]
  },
  {
   "cell_type": "code",
   "execution_count": 1,
   "metadata": {},
   "outputs": [],
   "source": [
    "import pandas as pd\n",
    "train_df = pd.read_csv('features.train.txt', delimiter= '\\s+', index_col=False,header=None)\n",
    "test_df = pd.read_csv('features.test.txt', delimiter= '\\s+', index_col=False,header=None)\n"
   ]
  },
  {
   "cell_type": "code",
   "execution_count": 2,
   "metadata": {},
   "outputs": [
    {
     "data": {
      "text/plain": [
       "(             1         2\n",
       " 1     0.444131 -5.496812\n",
       " 7     0.123043 -0.707875\n",
       " 9     0.113859 -0.931375\n",
       " 12    0.115371 -0.386000\n",
       " 13    0.102281 -0.378812\n",
       " ...        ...       ...\n",
       " 7269  0.355293 -4.682750\n",
       " 7271  0.232881 -4.423813\n",
       " 7284  0.195104 -1.217937\n",
       " 7285  0.168846 -0.582250\n",
       " 7290  0.276221 -0.916250\n",
       " \n",
       " [1561 rows x 2 columns],\n",
       "              1         2\n",
       " 16    0.159934 -1.742000\n",
       " 32    0.324840 -6.360563\n",
       " 36    0.251180 -4.389375\n",
       " 42    0.124609 -0.474438\n",
       " 45    0.219117 -0.904500\n",
       " ...        ...       ...\n",
       " 1988  0.445924 -5.343562\n",
       " 1989  0.177002 -0.955937\n",
       " 1992  0.384980 -5.086000\n",
       " 1998  0.339586 -4.722875\n",
       " 2006  0.188977 -0.781312\n",
       " \n",
       " [424 rows x 2 columns],\n",
       " 1       5.0\n",
       " 7       1.0\n",
       " 9       1.0\n",
       " 12      1.0\n",
       " 13      1.0\n",
       "        ... \n",
       " 7269    5.0\n",
       " 7271    5.0\n",
       " 7284    1.0\n",
       " 7285    1.0\n",
       " 7290    1.0\n",
       " Name: 0, Length: 1561, dtype: float64,\n",
       " 16      1.0\n",
       " 32      5.0\n",
       " 36      5.0\n",
       " 42      1.0\n",
       " 45      1.0\n",
       "        ... \n",
       " 1988    5.0\n",
       " 1989    1.0\n",
       " 1992    5.0\n",
       " 1998    5.0\n",
       " 2006    1.0\n",
       " Name: 0, Length: 424, dtype: float64)"
      ]
     },
     "execution_count": 2,
     "metadata": {},
     "output_type": "execute_result"
    }
   ],
   "source": [
    "#only considering data whose labels are 1 and 5\n",
    "train=train_df[(train_df[0]==1.0)|(train_df[0]==5.0)]\n",
    "test=test_df[(test_df[0]==1.0)|(test_df[0]==5.0)]\n",
    "x_train=train.drop([0],axis=1)\n",
    "x_test=test.drop([0],axis=1)\n",
    "y_train=train[0]\n",
    "y_test=test[0]\n",
    "x_train,x_test,y_train,y_test"
   ]
  },
  {
   "cell_type": "code",
   "execution_count": 3,
   "metadata": {},
   "outputs": [
    {
     "name": "stdout",
     "output_type": "stream",
     "text": [
      "accuracy 97.87735849056604\n",
      "Support vectors : 28\n"
     ]
    }
   ],
   "source": [
    "import numpy as np\n",
    "from sklearn.datasets import make_classification\n",
    "from sklearn.model_selection import train_test_split\n",
    "from sklearn import svm\n",
    "\n",
    "\n",
    "clf = svm.SVC(kernel='linear')\n",
    "\n",
    "\n",
    "clf.fit(x_train, y_train)\n",
    "\n",
    "\n",
    "\n",
    "predict=clf.predict(x_test)\n",
    "from sklearn.metrics import accuracy_score\n",
    "print(\"accuracy\",accuracy_score(y_test,predict)*100)\n",
    "print(\"Support vectors :\",len(clf.support_vectors_))"
   ]
  },
  {
   "cell_type": "markdown",
   "metadata": {},
   "source": [
    "# 4 b"
   ]
  },
  {
   "cell_type": "code",
   "execution_count": 4,
   "metadata": {},
   "outputs": [
    {
     "name": "stdout",
     "output_type": "stream",
     "text": [
      "accuracy for first  50  entries 98.0\n",
      "Support vectors : 2\n",
      "accuracy for first  100  entries 99.0\n",
      "Support vectors : 4\n",
      "accuracy for first  200  entries 99.0\n",
      "Support vectors : 8\n",
      "accuracy for first  800  entries 98.11320754716981\n",
      "Support vectors : 14\n"
     ]
    }
   ],
   "source": [
    "l=[50,100,200,800]\n",
    "for i in l:\n",
    "    #train test contains dataframe whose labels are 5 and 1\n",
    "    p=train[0:i]\n",
    "    q=test[0:i]\n",
    "    train_x1=p.drop([0],axis=1)\n",
    "    test_x1=q.drop([0],axis=1)\n",
    "    train_y1=p[0]\n",
    "    test_y1=q[0]\n",
    "    clf = svm.SVC(kernel='linear')\n",
    "\n",
    "  \n",
    "    clf.fit(train_x1,train_y1)\n",
    "\n",
    "\n",
    "  \n",
    "    predict=clf.predict(test_x1)\n",
    "    print(\"accuracy for first \",i,\" entries\",accuracy_score(test_y1,predict)*100)\n",
    "    print(\"Support vectors :\",len(clf.support_vectors_))\n",
    "    "
   ]
  },
  {
   "cell_type": "markdown",
   "metadata": {},
   "source": [
    "# 4 C. i"
   ]
  },
  {
   "cell_type": "code",
   "execution_count": 5,
   "metadata": {},
   "outputs": [],
   "source": [
    "from sklearn.svm import SVC\n",
    "from sklearn.preprocessing import PolynomialFeatures"
   ]
  },
  {
   "cell_type": "code",
   "execution_count": 6,
   "metadata": {},
   "outputs": [
    {
     "name": "stdout",
     "output_type": "stream",
     "text": [
      "acc: 0.7463164638052531\n",
      "Training_error for c= 0.0001  degree= 2  is: 0.25368353619474693\n"
     ]
    }
   ],
   "source": [
    "C=0.0001\n",
    "degree = 2\n",
    "p_kernel= SVC( C=0.0001, kernel='poly', degree = 2,coef0=1)\n",
    "\n",
    "poly_clf=p_kernel.fit(x_train, y_train)\n",
    "predict=poly_clf.predict(x_train)\n",
    "accuracy=accuracy_score(y_train,predict)\n",
    "print(\"acc:\",accuracy)\n",
    "Training_error=1-accuracy\n",
    "print(\"Training_error for c=\",C,\" degree=\",degree,\" is:\",Training_error)"
   ]
  },
  {
   "cell_type": "code",
   "execution_count": 7,
   "metadata": {},
   "outputs": [
    {
     "name": "stdout",
     "output_type": "stream",
     "text": [
      "Support vectors : 1112\n"
     ]
    }
   ],
   "source": [
    "print(\"Support vectors :\",len(poly_clf.support_vectors_))"
   ]
  },
  {
   "cell_type": "code",
   "execution_count": 8,
   "metadata": {},
   "outputs": [
    {
     "name": "stdout",
     "output_type": "stream",
     "text": [
      "acc: 0.9814221652786675\n",
      "Training_error for c= 0.0001  degree= 5  is: 0.018577834721332454\n"
     ]
    }
   ],
   "source": [
    "C=0.0001\n",
    "degree = 5\n",
    "p_kernel= SVC( C=0.0001, kernel='poly', degree = 5,coef0=1)\n",
    "\n",
    "poly_clf=p_kernel.fit(x_train, y_train)\n",
    "predict=poly_clf.predict(x_train)\n",
    "accuracy=accuracy_score(y_train,predict)\n",
    "print(\"acc:\",accuracy)\n",
    "Training_error=1-accuracy\n",
    "print(\"Training_error for c=\",C,\" degree=\",degree,\" is:\",Training_error)"
   ]
  },
  {
   "cell_type": "code",
   "execution_count": 9,
   "metadata": {},
   "outputs": [
    {
     "name": "stdout",
     "output_type": "stream",
     "text": [
      "Support vectors : 188\n"
     ]
    }
   ],
   "source": [
    "print(\"Support vectors :\",len(poly_clf.support_vectors_))"
   ]
  },
  {
   "cell_type": "markdown",
   "metadata": {},
   "source": [
    "# i. When C = 0.0001, training error is higher at Q = 5. -False"
   ]
  },
  {
   "cell_type": "markdown",
   "metadata": {},
   "source": [
    "# 4 C.ii"
   ]
  },
  {
   "cell_type": "code",
   "execution_count": 10,
   "metadata": {},
   "outputs": [
    {
     "name": "stdout",
     "output_type": "stream",
     "text": [
      "acc: 0.9935938500960922\n",
      "Training_error for c= 0.001  degree= 5  is: 0.006406149903907754\n",
      "Support vectors : 72\n"
     ]
    }
   ],
   "source": [
    "C=0.001\n",
    "degree = 5\n",
    "p_kernel= SVC( C=0.001, kernel='poly', degree = 5,coef0=1)\n",
    "\n",
    "poly_clf=p_kernel.fit(x_train, y_train)\n",
    "predict=poly_clf.predict(x_train)\n",
    "accuracy=accuracy_score(y_train,predict)\n",
    "print(\"acc:\",accuracy)\n",
    "Training_error=1-accuracy\n",
    "print(\"Training_error for c=\",C,\" degree=\",degree,\" is:\",Training_error)\n",
    "print(\"Support vectors :\",len(poly_clf.support_vectors_))"
   ]
  },
  {
   "cell_type": "code",
   "execution_count": 11,
   "metadata": {},
   "outputs": [
    {
     "name": "stdout",
     "output_type": "stream",
     "text": [
      "acc: 0.985906470211403\n",
      "Training_error for c= 0.001  degree= 2  is: 0.014093529788597015\n",
      "Support vectors : 456\n"
     ]
    }
   ],
   "source": [
    "C=0.001\n",
    "degree = 2\n",
    "p_kernel= SVC( C=0.001, kernel='poly', degree = 2,coef0=1)\n",
    "\n",
    "poly_clf=p_kernel.fit(x_train, y_train)\n",
    "predict=poly_clf.predict(x_train)\n",
    "accuracy=accuracy_score(y_train,predict)\n",
    "print(\"acc:\",accuracy)\n",
    "Training_error=1-accuracy\n",
    "print(\"Training_error for c=\",C,\" degree=\",degree,\" is:\",Training_error)\n",
    "print(\"Support vectors :\",len(poly_clf.support_vectors_))"
   ]
  },
  {
   "cell_type": "markdown",
   "metadata": {},
   "source": [
    "# ii. When C = 0.001, the number of support vectors is lower at Q = 5.True"
   ]
  },
  {
   "cell_type": "markdown",
   "metadata": {},
   "source": [
    "# 4 C.iii"
   ]
  },
  {
   "cell_type": "code",
   "execution_count": 12,
   "metadata": {},
   "outputs": [
    {
     "name": "stdout",
     "output_type": "stream",
     "text": [
      "acc: 0.9955156950672646\n",
      "Training_error for c= 0.01  degree= 5  is: 0.004484304932735439\n"
     ]
    }
   ],
   "source": [
    "C=0.01\n",
    "degree = 5\n",
    "p_kernel= SVC( C=0.01, kernel='poly', degree = 5,coef0=1)\n",
    "\n",
    "poly_clf=p_kernel.fit(x_train, y_train)\n",
    "predict=poly_clf.predict(x_train)\n",
    "accuracy=accuracy_score(y_train,predict)\n",
    "print(\"acc:\",accuracy)\n",
    "Training_error=1-accuracy\n",
    "print(\"Training_error for c=\",C,\" degree=\",degree,\" is:\",Training_error)"
   ]
  },
  {
   "cell_type": "code",
   "execution_count": 13,
   "metadata": {},
   "outputs": [
    {
     "name": "stdout",
     "output_type": "stream",
     "text": [
      "Support vectors : 34\n"
     ]
    }
   ],
   "source": [
    "print(\"Support vectors :\",len(poly_clf.support_vectors_))"
   ]
  },
  {
   "cell_type": "code",
   "execution_count": 14,
   "metadata": {},
   "outputs": [
    {
     "name": "stdout",
     "output_type": "stream",
     "text": [
      "acc: 0.9948750800768738\n",
      "Training_error for c= 0.01  degree= 2  is: 0.005124919923126248\n"
     ]
    }
   ],
   "source": [
    "C=0.01\n",
    "degree = 2\n",
    "p_kernel= SVC( C=0.01, kernel='poly', degree = 2,coef0=1)\n",
    "\n",
    "poly_clf=p_kernel.fit(x_train, y_train)\n",
    "predict=poly_clf.predict(x_train)\n",
    "accuracy=accuracy_score(y_train,predict)\n",
    "print(\"acc:\",accuracy)\n",
    "Training_error=1-accuracy\n",
    "print(\"Training_error for c=\",C,\" degree=\",degree,\" is:\",Training_error)"
   ]
  },
  {
   "cell_type": "code",
   "execution_count": 15,
   "metadata": {},
   "outputs": [
    {
     "name": "stdout",
     "output_type": "stream",
     "text": [
      "Support vectors : 132\n"
     ]
    }
   ],
   "source": [
    "print(\"Support vectors :\",len(poly_clf.support_vectors_))"
   ]
  },
  {
   "cell_type": "markdown",
   "metadata": {},
   "source": [
    "# iii. When C = 0.01, training error is higher at Q = 5. False"
   ]
  },
  {
   "cell_type": "markdown",
   "metadata": {},
   "source": [
    "# 4 C .iv"
   ]
  },
  {
   "cell_type": "code",
   "execution_count": 16,
   "metadata": {},
   "outputs": [
    {
     "name": "stdout",
     "output_type": "stream",
     "text": [
      "acc: 0.9764150943396226\n",
      "Testing_error for c= 1  degree= 5  is: 0.02358490566037741\n"
     ]
    }
   ],
   "source": [
    "C=1\n",
    "degree = 5\n",
    "p_kernel= SVC( C=1, kernel='poly', degree = 5,coef0=1)\n",
    "\n",
    "poly_clf=p_kernel.fit(x_train, y_train)\n",
    "\n",
    "predict=poly_clf.predict(x_test)\n",
    "accuracy=accuracy_score(y_test,predict)\n",
    "print(\"acc:\",accuracy)\n",
    "Training_error=1-accuracy\n",
    "print(\"Testing_error for c=\",C,\" degree=\",degree,\" is:\",Training_error)"
   ]
  },
  {
   "cell_type": "code",
   "execution_count": 17,
   "metadata": {},
   "outputs": [
    {
     "name": "stdout",
     "output_type": "stream",
     "text": [
      "Support vectors : 25\n"
     ]
    }
   ],
   "source": [
    "print(\"Support vectors :\",len(poly_clf.support_vectors_))"
   ]
  },
  {
   "cell_type": "code",
   "execution_count": 22,
   "metadata": {},
   "outputs": [
    {
     "name": "stdout",
     "output_type": "stream",
     "text": [
      "acc: 0.9787735849056604\n",
      "Testing_error for c= 1  degree= 2  is: 0.021226415094339646\n"
     ]
    }
   ],
   "source": [
    "C=1\n",
    "degree = 2\n",
    "p_kernel= SVC( C=1, kernel='poly', degree = 2,coef0=1)\n",
    "\n",
    "poly_clf=p_kernel.fit(x_train, y_train)\n",
    "\n",
    "predict=poly_clf.predict(x_test)\n",
    "accuracy=accuracy_score(y_test,predict)\n",
    "print(\"acc:\",accuracy)\n",
    "Training_error=1-accuracy\n",
    "print(\"Testing_error for c=\",C,\" degree=\",degree,\" is:\",Training_error)"
   ]
  },
  {
   "cell_type": "code",
   "execution_count": 23,
   "metadata": {},
   "outputs": [
    {
     "name": "stdout",
     "output_type": "stream",
     "text": [
      "Support vectors : 28\n"
     ]
    }
   ],
   "source": [
    "print(\"Support vectors :\",len(poly_clf.support_vectors_))"
   ]
  },
  {
   "cell_type": "markdown",
   "metadata": {},
   "source": [
    "# iv. When C = 1, test error is lower at Q = 5. FALSE"
   ]
  },
  {
   "cell_type": "markdown",
   "metadata": {},
   "source": [
    "# 4.d"
   ]
  },
  {
   "cell_type": "code",
   "execution_count": 20,
   "metadata": {},
   "outputs": [
    {
     "name": "stdout",
     "output_type": "stream",
     "text": [
      "acc: 0.9764150943396226\n",
      "Testing_error for c= 0.01  is: 0.02358490566037741\n",
      "Support vectors : 403\n",
      "acc: 0.9787735849056604\n",
      "Testing_error for c= 1  is: 0.021226415094339646\n",
      "Support vectors : 31\n",
      "acc: 0.9811320754716981\n",
      "Testing_error for c= 100  is: 0.018867924528301883\n",
      "Support vectors : 22\n",
      "acc: 0.9764150943396226\n",
      "Testing_error for c= 10000  is: 0.02358490566037741\n",
      "Support vectors : 20\n",
      "acc: 0.9764150943396226\n",
      "Testing_error for c= 1000000  is: 0.02358490566037741\n",
      "Support vectors : 17\n"
     ]
    }
   ],
   "source": [
    "\n",
    "l=[0.01,1,100,10000,1000000]\n",
    "for i in l:\n",
    "    p_kernel= SVC( C=i, kernel='rbf',gamma=1)\n",
    "   \n",
    "    poly_clf=p_kernel.fit(x_train, y_train)\n",
    "    \n",
    "    predict=poly_clf.predict(x_test)\n",
    "    accuracy=accuracy_score(y_test,predict)\n",
    "    print(\"acc:\",accuracy)\n",
    "    Training_error=1-accuracy\n",
    "    print(\"Testing_error for c=\",i,\" is:\",Training_error)\n",
    "    print(\"Support vectors :\",len(poly_clf.support_vectors_))"
   ]
  },
  {
   "cell_type": "code",
   "execution_count": 21,
   "metadata": {},
   "outputs": [
    {
     "name": "stdout",
     "output_type": "stream",
     "text": [
      "acc: 0.9961563100576554\n",
      "Training_error for c= 0.01  is: 0.0038436899423446302\n",
      "Support vectors : 403\n",
      "acc: 0.9955156950672646\n",
      "Training_error for c= 1  is: 0.004484304932735439\n",
      "Support vectors : 31\n",
      "acc: 0.9967969250480462\n",
      "Training_error for c= 100  is: 0.0032030749519538215\n",
      "Support vectors : 22\n",
      "acc: 0.9974375400384369\n",
      "Training_error for c= 10000  is: 0.002562459961563124\n",
      "Support vectors : 20\n",
      "acc: 0.9993593850096092\n",
      "Training_error for c= 1000000  is: 0.0006406149903908087\n",
      "Support vectors : 17\n"
     ]
    }
   ],
   "source": [
    "l=[0.01,1,100,10000,1000000]\n",
    "for i in l:\n",
    "    p_kernel= SVC( C=i, kernel='rbf', gamma=1)\n",
    "    \n",
    "    poly_clf=p_kernel.fit(x_train, y_train)\n",
    "    predict=poly_clf.predict(x_train)\n",
    "    accuracy=accuracy_score(y_train,predict)\n",
    "    print(\"acc:\",accuracy)\n",
    "    Training_error=1-accuracy\n",
    "    print(\"Training_error for c=\",i,\" is:\",Training_error)\n",
    "    print(\"Support vectors :\",len(poly_clf.support_vectors_))"
   ]
  },
  {
   "cell_type": "markdown",
   "metadata": {},
   "source": [
    "Which value of C  results in the\n",
    "lowest training error? The lowest test error? Show the error values for all the C values."
   ]
  },
  {
   "cell_type": "raw",
   "metadata": {},
   "source": [
    "for values of c ∈{ 1000000} have lowest training error =0.0006406149903908087\n",
    "for values of c ∈{ 1 } have lowest testing error =0.021226415094339646\n"
   ]
  },
  {
   "cell_type": "code",
   "execution_count": null,
   "metadata": {},
   "outputs": [],
   "source": []
  },
  {
   "cell_type": "code",
   "execution_count": null,
   "metadata": {},
   "outputs": [],
   "source": []
  },
  {
   "cell_type": "code",
   "execution_count": null,
   "metadata": {},
   "outputs": [],
   "source": []
  },
  {
   "cell_type": "code",
   "execution_count": null,
   "metadata": {},
   "outputs": [],
   "source": []
  }
 ],
 "metadata": {
  "kernelspec": {
   "display_name": "Python 3",
   "language": "python",
   "name": "python3"
  },
  "language_info": {
   "codemirror_mode": {
    "name": "ipython",
    "version": 3
   },
   "file_extension": ".py",
   "mimetype": "text/x-python",
   "name": "python",
   "nbconvert_exporter": "python",
   "pygments_lexer": "ipython3",
   "version": "3.6.10"
  }
 },
 "nbformat": 4,
 "nbformat_minor": 4
}
