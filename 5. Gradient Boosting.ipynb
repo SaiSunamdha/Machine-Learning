{
 "cells": [
  {
   "cell_type": "code",
   "execution_count": 1,
   "metadata": {},
   "outputs": [],
   "source": [
    "import pandas as pd\n",
    "import numpy as np\n",
    "import sklearn as sk\n",
    "from sklearn.preprocessing import LabelEncoder\n",
    "import seaborn as sns\n",
    "import matplotlib.pyplot as plt\n",
    "import warnings\n",
    "warnings.simplefilter(action='ignore', category=FutureWarning)\n",
    "warnings.simplefilter(action='ignore', category=UserWarning)"
   ]
  },
  {
   "cell_type": "markdown",
   "metadata": {},
   "source": [
    "loading dataset and The target attribute is in the column loan status, which has values “Fully\n",
    "Paid” for which you can assign +1 to, and “Charged off” for which you can assign -1 to. The\n",
    "other records with loan status values “Current” (in both Train and Test) are not relevant\n",
    "to this problem."
   ]
  },
  {
   "cell_type": "code",
   "execution_count": 2,
   "metadata": {},
   "outputs": [],
   "source": [
    "Train = pd.read_csv(\"loan_Train - loan_Train.csv\")\n",
    "Test = pd.read_csv(\"loan_Test - loan_Test.csv\")\n",
    "Train = Train[Train['loan_status']!='Current']\n",
    "Test = Test[Test['loan_status']!='Current']\n",
    "Train.loc[Train.loan_status == \"Charged Off\", \"loan_status\"] = -1\n",
    "Train.loc[Train.loan_status == \"Fully Paid\", \"loan_status\"] = 1\n",
    "Test.loc[Test.loan_status == \"Charged Off\", \"loan_status\"] = -1\n",
    "Test.loc[Test.loan_status == \"Fully Paid\", \"loan_status\"] = 1"
   ]
  },
  {
   "cell_type": "code",
   "execution_count": 3,
   "metadata": {},
   "outputs": [
    {
     "name": "stdout",
     "output_type": "stream",
     "text": [
      " 1    20827\n",
      "-1     3474\n",
      "Name: loan_status, dtype: int64\n",
      " 1    12123\n",
      "-1     2153\n",
      "Name: loan_status, dtype: int64\n"
     ]
    }
   ],
   "source": [
    "print(Train['loan_status'].value_counts())\n",
    "print(Test['loan_status'].value_counts())"
   ]
  },
  {
   "cell_type": "code",
   "execution_count": 4,
   "metadata": {},
   "outputs": [
    {
     "data": {
      "text/plain": [
       "((24301, 111), (14276, 111))"
      ]
     },
     "execution_count": 4,
     "metadata": {},
     "output_type": "execute_result"
    }
   ],
   "source": [
    "Train.shape,Test.shape"
   ]
  },
  {
   "cell_type": "markdown",
   "metadata": {},
   "source": [
    "# Removing columns having more than 900 null entries"
   ]
  },
  {
   "cell_type": "code",
   "execution_count": 5,
   "metadata": {},
   "outputs": [],
   "source": [
    "Train_Null_features = list(Train.isnull().sum())\n",
    "Test_features_Null= list(Test.isnull().sum())\n",
    "null_cols_1000 =[]\n",
    "null_col = []\n",
    "for i in range(len(Train_Null_features)):\n",
    "    if Train_Null_features[i]>900:\n",
    "        \n",
    "        null_cols_1000.append(Train.columns[i])\n",
    "    elif Train_Null_features[i]!= 0:\n",
    "        null_col.append(Train.columns[i])\n",
    "        \n",
    "Train1 = Train.drop(null_cols_1000,axis=1)    \n",
    "\n",
    "null_cols_1000_t =[]\n",
    "null_col_t = []\n",
    "for i in range(len(Test_features_Null)):\n",
    "    if Test_features_Null[i]>900:\n",
    "       \n",
    "        null_cols_1000_t.append(Test.columns[i])\n",
    "    elif Test_features_Null[i]!= 0:\n",
    "        null_col_t.append(Test.columns[i])\n",
    "        \n",
    "Test1 = Test.drop(null_cols_1000,axis=1)  "
   ]
  },
  {
   "cell_type": "code",
   "execution_count": 6,
   "metadata": {},
   "outputs": [
    {
     "data": {
      "text/plain": [
       "((24301, 53), (14276, 53))"
      ]
     },
     "execution_count": 6,
     "metadata": {},
     "output_type": "execute_result"
    }
   ],
   "source": [
    "Train1.shape,Test1.shape"
   ]
  },
  {
   "cell_type": "markdown",
   "metadata": {},
   "source": [
    "# Filling null values of dataframe with mean and mode for continuous and categorical values respectively"
   ]
  },
  {
   "cell_type": "code",
   "execution_count": 7,
   "metadata": {},
   "outputs": [],
   "source": [
    "for i in null_col:\n",
    "    if isinstance(Train1[i][0],int):\n",
    "        Train1[i].fillna(int(Train1[i].mean()), inplace=True)\n",
    "    elif isinstance(Train1[i][0],float):\n",
    "        Train1[i].fillna(Train1[i].mean(), inplace=True)\n",
    "    else:\n",
    "        Train1[i]=Train1[i].astype(str)\n",
    "        Train1[i].fillna(Train1[i].mode(), inplace=True)\n",
    "        "
   ]
  },
  {
   "cell_type": "code",
   "execution_count": 8,
   "metadata": {},
   "outputs": [],
   "source": [
    "for i in null_col:\n",
    "    if isinstance(Test1[i][0],int):\n",
    "        Test1[i].fillna(int(Test1[i].mean()), inplace=True)\n",
    "    elif isinstance(Test1[i][0],float):\n",
    "        Test1[i].fillna(Test1[i].mean(), inplace=True)\n",
    "    else:\n",
    "        Test1[i]=Test1[i].astype(str)\n",
    "        Test1[i].fillna(Test1[i].mode(), inplace=True)"
   ]
  },
  {
   "cell_type": "code",
   "execution_count": 9,
   "metadata": {},
   "outputs": [
    {
     "name": "stdout",
     "output_type": "stream",
     "text": [
      "id                            0\n",
      "member_id                     0\n",
      "loan_amnt                     0\n",
      "funded_amnt                   0\n",
      "funded_amnt_inv               0\n",
      "term                          0\n",
      "int_rate                      0\n",
      "installment                   0\n",
      "grade                         0\n",
      "sub_grade                     0\n",
      "emp_title                     0\n",
      "emp_length                    0\n",
      "home_ownership                0\n",
      "annual_inc                    0\n",
      "verification_status           0\n",
      "issue_d                       0\n",
      "loan_status                   0\n",
      "pymnt_plan                    0\n",
      "url                           0\n",
      "purpose                       0\n",
      "title                         0\n",
      "zip_code                      0\n",
      "addr_state                    0\n",
      "dti                           0\n",
      "delinq_2yrs                   0\n",
      "earliest_cr_line              0\n",
      "inq_last_6mths                0\n",
      "open_acc                      0\n",
      "pub_rec                       0\n",
      "revol_bal                     0\n",
      "revol_util                    0\n",
      "total_acc                     0\n",
      "initial_list_status           0\n",
      "out_prncp                     0\n",
      "out_prncp_inv                 0\n",
      "total_pymnt                   0\n",
      "total_pymnt_inv               0\n",
      "total_rec_prncp               0\n",
      "total_rec_int                 0\n",
      "total_rec_late_fee            0\n",
      "recoveries                    0\n",
      "collection_recovery_fee       0\n",
      "last_pymnt_d                  0\n",
      "last_pymnt_amnt               0\n",
      "last_credit_pull_d            0\n",
      "collections_12_mths_ex_med    0\n",
      "policy_code                   0\n",
      "application_type              0\n",
      "acc_now_delinq                0\n",
      "chargeoff_within_12_mths      0\n",
      "delinq_amnt                   0\n",
      "pub_rec_bankruptcies          0\n",
      "tax_liens                     0\n",
      "dtype: int64\n",
      "id                            0\n",
      "member_id                     0\n",
      "loan_amnt                     0\n",
      "funded_amnt                   0\n",
      "funded_amnt_inv               0\n",
      "term                          0\n",
      "int_rate                      0\n",
      "installment                   0\n",
      "grade                         0\n",
      "sub_grade                     0\n",
      "emp_title                     0\n",
      "emp_length                    0\n",
      "home_ownership                0\n",
      "annual_inc                    0\n",
      "verification_status           0\n",
      "issue_d                       0\n",
      "loan_status                   0\n",
      "pymnt_plan                    0\n",
      "url                           0\n",
      "purpose                       0\n",
      "title                         0\n",
      "zip_code                      0\n",
      "addr_state                    0\n",
      "dti                           0\n",
      "delinq_2yrs                   0\n",
      "earliest_cr_line              0\n",
      "inq_last_6mths                0\n",
      "open_acc                      0\n",
      "pub_rec                       0\n",
      "revol_bal                     0\n",
      "revol_util                    0\n",
      "total_acc                     0\n",
      "initial_list_status           0\n",
      "out_prncp                     0\n",
      "out_prncp_inv                 0\n",
      "total_pymnt                   0\n",
      "total_pymnt_inv               0\n",
      "total_rec_prncp               0\n",
      "total_rec_int                 0\n",
      "total_rec_late_fee            0\n",
      "recoveries                    0\n",
      "collection_recovery_fee       0\n",
      "last_pymnt_d                  0\n",
      "last_pymnt_amnt               0\n",
      "last_credit_pull_d            2\n",
      "collections_12_mths_ex_med    0\n",
      "policy_code                   0\n",
      "application_type              0\n",
      "acc_now_delinq                0\n",
      "chargeoff_within_12_mths      0\n",
      "delinq_amnt                   0\n",
      "pub_rec_bankruptcies          0\n",
      "tax_liens                     0\n",
      "dtype: int64\n"
     ]
    }
   ],
   "source": [
    "print(Train1.isnull().sum())\n",
    "print(Test1.isnull().sum())\n"
   ]
  },
  {
   "cell_type": "code",
   "execution_count": 10,
   "metadata": {},
   "outputs": [
    {
     "data": {
      "text/plain": [
       "((24301, 53), (14276, 53))"
      ]
     },
     "execution_count": 10,
     "metadata": {},
     "output_type": "execute_result"
    }
   ],
   "source": [
    "Train1.shape,Test1.shape"
   ]
  },
  {
   "cell_type": "code",
   "execution_count": 11,
   "metadata": {},
   "outputs": [],
   "source": [
    "x_Train = Train1.drop('loan_status', axis=1)\n",
    "y_Train = Train1['loan_status']"
   ]
  },
  {
   "cell_type": "code",
   "execution_count": 12,
   "metadata": {},
   "outputs": [],
   "source": [
    "x_Test = Test1.drop('loan_status', axis=1)\n",
    "y_Test = Test1['loan_status']"
   ]
  },
  {
   "cell_type": "markdown",
   "metadata": {},
   "source": [
    "# we have to change data to numericals before giving to a model because sklearn library won't handle string data"
   ]
  },
  {
   "cell_type": "code",
   "execution_count": 13,
   "metadata": {},
   "outputs": [],
   "source": [
    "from sklearn import preprocessing"
   ]
  },
  {
   "cell_type": "code",
   "execution_count": 14,
   "metadata": {},
   "outputs": [],
   "source": [
    " \n",
    "label_encoder = preprocessing.LabelEncoder()\n",
    "col = x_Train.columns\n",
    "\n",
    "for i in col:\n",
    "    if isinstance(x_Train[i][0], object):\n",
    "        \n",
    "        x_Train[i] = x_Train[i].astype(str)\n",
    "        x_Train[i]= label_encoder.fit_transform(x_Train[i])"
   ]
  },
  {
   "cell_type": "code",
   "execution_count": 15,
   "metadata": {},
   "outputs": [],
   "source": [
    " \n",
    "label_encoder = preprocessing.LabelEncoder()\n",
    "col = x_Test.columns\n",
    "\n",
    "for i in col:\n",
    "    if isinstance(x_Test[i][0], object):\n",
    "        \n",
    "        x_Test[i] = x_Test[i].astype(str)\n",
    "        \n",
    "        x_Test[i]= label_encoder.fit_transform(x_Test[i])\n",
    "        "
   ]
  },
  {
   "cell_type": "code",
   "execution_count": 16,
   "metadata": {},
   "outputs": [
    {
     "name": "stdout",
     "output_type": "stream",
     "text": [
      "int32\n",
      "int32\n"
     ]
    }
   ],
   "source": [
    "y_Train = y_Train.astype(int)\n",
    "y_Test = y_Test.astype(int)\n",
    "print(y_Train.dtype)\n",
    "print(y_Test.dtype)"
   ]
  },
  {
   "cell_type": "code",
   "execution_count": 17,
   "metadata": {},
   "outputs": [],
   "source": [
    "from sklearn.feature_selection import RFE\n",
    "from sklearn.linear_model import LogisticRegression"
   ]
  },
  {
   "cell_type": "code",
   "execution_count": 18,
   "metadata": {},
   "outputs": [],
   "source": [
    "# Create the RFE object and rank each feature\n",
    "model = LogisticRegression()\n",
    "rfe = RFE(estimator=model, n_features_to_select=1, step=1)\n",
    "rfe.fit(x_Train, y_Train)\n",
    "\n",
    "ranking_df = pd.DataFrame()\n",
    "ranking_df['Feature_name'] = x_Train.columns\n",
    "ranking_df['Rank'] = rfe.ranking_\n",
    "\n",
    "ranked = ranking_df.sort_values(by=['Rank'])"
   ]
  },
  {
   "cell_type": "code",
   "execution_count": 19,
   "metadata": {},
   "outputs": [
    {
     "data": {
      "text/html": [
       "<div>\n",
       "<style scoped>\n",
       "    .dataframe tbody tr th:only-of-type {\n",
       "        vertical-align: middle;\n",
       "    }\n",
       "\n",
       "    .dataframe tbody tr th {\n",
       "        vertical-align: top;\n",
       "    }\n",
       "\n",
       "    .dataframe thead th {\n",
       "        text-align: right;\n",
       "    }\n",
       "</style>\n",
       "<table border=\"1\" class=\"dataframe\">\n",
       "  <thead>\n",
       "    <tr style=\"text-align: right;\">\n",
       "      <th></th>\n",
       "      <th>Feature_name</th>\n",
       "      <th>Rank</th>\n",
       "    </tr>\n",
       "  </thead>\n",
       "  <tbody>\n",
       "    <tr>\n",
       "      <th>39</th>\n",
       "      <td>recoveries</td>\n",
       "      <td>1</td>\n",
       "    </tr>\n",
       "    <tr>\n",
       "      <th>8</th>\n",
       "      <td>grade</td>\n",
       "      <td>2</td>\n",
       "    </tr>\n",
       "    <tr>\n",
       "      <th>40</th>\n",
       "      <td>collection_recovery_fee</td>\n",
       "      <td>3</td>\n",
       "    </tr>\n",
       "    <tr>\n",
       "      <th>43</th>\n",
       "      <td>last_credit_pull_d</td>\n",
       "      <td>4</td>\n",
       "    </tr>\n",
       "    <tr>\n",
       "      <th>9</th>\n",
       "      <td>sub_grade</td>\n",
       "      <td>5</td>\n",
       "    </tr>\n",
       "    <tr>\n",
       "      <th>41</th>\n",
       "      <td>last_pymnt_d</td>\n",
       "      <td>6</td>\n",
       "    </tr>\n",
       "    <tr>\n",
       "      <th>11</th>\n",
       "      <td>emp_length</td>\n",
       "      <td>7</td>\n",
       "    </tr>\n",
       "    <tr>\n",
       "      <th>30</th>\n",
       "      <td>total_acc</td>\n",
       "      <td>8</td>\n",
       "    </tr>\n",
       "    <tr>\n",
       "      <th>21</th>\n",
       "      <td>addr_state</td>\n",
       "      <td>9</td>\n",
       "    </tr>\n",
       "    <tr>\n",
       "      <th>15</th>\n",
       "      <td>issue_d</td>\n",
       "      <td>10</td>\n",
       "    </tr>\n",
       "    <tr>\n",
       "      <th>38</th>\n",
       "      <td>total_rec_late_fee</td>\n",
       "      <td>11</td>\n",
       "    </tr>\n",
       "    <tr>\n",
       "      <th>26</th>\n",
       "      <td>open_acc</td>\n",
       "      <td>12</td>\n",
       "    </tr>\n",
       "    <tr>\n",
       "      <th>6</th>\n",
       "      <td>int_rate</td>\n",
       "      <td>13</td>\n",
       "    </tr>\n",
       "    <tr>\n",
       "      <th>2</th>\n",
       "      <td>loan_amnt</td>\n",
       "      <td>14</td>\n",
       "    </tr>\n",
       "    <tr>\n",
       "      <th>24</th>\n",
       "      <td>earliest_cr_line</td>\n",
       "      <td>15</td>\n",
       "    </tr>\n",
       "    <tr>\n",
       "      <th>3</th>\n",
       "      <td>funded_amnt</td>\n",
       "      <td>16</td>\n",
       "    </tr>\n",
       "    <tr>\n",
       "      <th>36</th>\n",
       "      <td>total_rec_prncp</td>\n",
       "      <td>17</td>\n",
       "    </tr>\n",
       "    <tr>\n",
       "      <th>22</th>\n",
       "      <td>dti</td>\n",
       "      <td>18</td>\n",
       "    </tr>\n",
       "    <tr>\n",
       "      <th>13</th>\n",
       "      <td>annual_inc</td>\n",
       "      <td>19</td>\n",
       "    </tr>\n",
       "    <tr>\n",
       "      <th>4</th>\n",
       "      <td>funded_amnt_inv</td>\n",
       "      <td>20</td>\n",
       "    </tr>\n",
       "    <tr>\n",
       "      <th>7</th>\n",
       "      <td>installment</td>\n",
       "      <td>21</td>\n",
       "    </tr>\n",
       "    <tr>\n",
       "      <th>28</th>\n",
       "      <td>revol_bal</td>\n",
       "      <td>22</td>\n",
       "    </tr>\n",
       "    <tr>\n",
       "      <th>1</th>\n",
       "      <td>member_id</td>\n",
       "      <td>23</td>\n",
       "    </tr>\n",
       "    <tr>\n",
       "      <th>35</th>\n",
       "      <td>total_pymnt_inv</td>\n",
       "      <td>24</td>\n",
       "    </tr>\n",
       "    <tr>\n",
       "      <th>34</th>\n",
       "      <td>total_pymnt</td>\n",
       "      <td>25</td>\n",
       "    </tr>\n",
       "    <tr>\n",
       "      <th>42</th>\n",
       "      <td>last_pymnt_amnt</td>\n",
       "      <td>26</td>\n",
       "    </tr>\n",
       "    <tr>\n",
       "      <th>12</th>\n",
       "      <td>home_ownership</td>\n",
       "      <td>27</td>\n",
       "    </tr>\n",
       "    <tr>\n",
       "      <th>25</th>\n",
       "      <td>inq_last_6mths</td>\n",
       "      <td>28</td>\n",
       "    </tr>\n",
       "    <tr>\n",
       "      <th>5</th>\n",
       "      <td>term</td>\n",
       "      <td>29</td>\n",
       "    </tr>\n",
       "    <tr>\n",
       "      <th>17</th>\n",
       "      <td>url</td>\n",
       "      <td>30</td>\n",
       "    </tr>\n",
       "    <tr>\n",
       "      <th>20</th>\n",
       "      <td>zip_code</td>\n",
       "      <td>31</td>\n",
       "    </tr>\n",
       "    <tr>\n",
       "      <th>10</th>\n",
       "      <td>emp_title</td>\n",
       "      <td>32</td>\n",
       "    </tr>\n",
       "    <tr>\n",
       "      <th>19</th>\n",
       "      <td>title</td>\n",
       "      <td>33</td>\n",
       "    </tr>\n",
       "    <tr>\n",
       "      <th>0</th>\n",
       "      <td>id</td>\n",
       "      <td>34</td>\n",
       "    </tr>\n",
       "    <tr>\n",
       "      <th>18</th>\n",
       "      <td>purpose</td>\n",
       "      <td>35</td>\n",
       "    </tr>\n",
       "    <tr>\n",
       "      <th>29</th>\n",
       "      <td>revol_util</td>\n",
       "      <td>36</td>\n",
       "    </tr>\n",
       "    <tr>\n",
       "      <th>50</th>\n",
       "      <td>pub_rec_bankruptcies</td>\n",
       "      <td>37</td>\n",
       "    </tr>\n",
       "    <tr>\n",
       "      <th>37</th>\n",
       "      <td>total_rec_int</td>\n",
       "      <td>38</td>\n",
       "    </tr>\n",
       "    <tr>\n",
       "      <th>27</th>\n",
       "      <td>pub_rec</td>\n",
       "      <td>39</td>\n",
       "    </tr>\n",
       "    <tr>\n",
       "      <th>14</th>\n",
       "      <td>verification_status</td>\n",
       "      <td>40</td>\n",
       "    </tr>\n",
       "    <tr>\n",
       "      <th>23</th>\n",
       "      <td>delinq_2yrs</td>\n",
       "      <td>41</td>\n",
       "    </tr>\n",
       "    <tr>\n",
       "      <th>16</th>\n",
       "      <td>pymnt_plan</td>\n",
       "      <td>42</td>\n",
       "    </tr>\n",
       "    <tr>\n",
       "      <th>49</th>\n",
       "      <td>delinq_amnt</td>\n",
       "      <td>43</td>\n",
       "    </tr>\n",
       "    <tr>\n",
       "      <th>31</th>\n",
       "      <td>initial_list_status</td>\n",
       "      <td>44</td>\n",
       "    </tr>\n",
       "    <tr>\n",
       "      <th>44</th>\n",
       "      <td>collections_12_mths_ex_med</td>\n",
       "      <td>45</td>\n",
       "    </tr>\n",
       "    <tr>\n",
       "      <th>45</th>\n",
       "      <td>policy_code</td>\n",
       "      <td>46</td>\n",
       "    </tr>\n",
       "    <tr>\n",
       "      <th>46</th>\n",
       "      <td>application_type</td>\n",
       "      <td>47</td>\n",
       "    </tr>\n",
       "    <tr>\n",
       "      <th>47</th>\n",
       "      <td>acc_now_delinq</td>\n",
       "      <td>48</td>\n",
       "    </tr>\n",
       "    <tr>\n",
       "      <th>32</th>\n",
       "      <td>out_prncp</td>\n",
       "      <td>49</td>\n",
       "    </tr>\n",
       "    <tr>\n",
       "      <th>33</th>\n",
       "      <td>out_prncp_inv</td>\n",
       "      <td>50</td>\n",
       "    </tr>\n",
       "    <tr>\n",
       "      <th>48</th>\n",
       "      <td>chargeoff_within_12_mths</td>\n",
       "      <td>51</td>\n",
       "    </tr>\n",
       "    <tr>\n",
       "      <th>51</th>\n",
       "      <td>tax_liens</td>\n",
       "      <td>52</td>\n",
       "    </tr>\n",
       "  </tbody>\n",
       "</table>\n",
       "</div>"
      ],
      "text/plain": [
       "                  Feature_name  Rank\n",
       "39                  recoveries     1\n",
       "8                        grade     2\n",
       "40     collection_recovery_fee     3\n",
       "43          last_credit_pull_d     4\n",
       "9                    sub_grade     5\n",
       "41                last_pymnt_d     6\n",
       "11                  emp_length     7\n",
       "30                   total_acc     8\n",
       "21                  addr_state     9\n",
       "15                     issue_d    10\n",
       "38          total_rec_late_fee    11\n",
       "26                    open_acc    12\n",
       "6                     int_rate    13\n",
       "2                    loan_amnt    14\n",
       "24            earliest_cr_line    15\n",
       "3                  funded_amnt    16\n",
       "36             total_rec_prncp    17\n",
       "22                         dti    18\n",
       "13                  annual_inc    19\n",
       "4              funded_amnt_inv    20\n",
       "7                  installment    21\n",
       "28                   revol_bal    22\n",
       "1                    member_id    23\n",
       "35             total_pymnt_inv    24\n",
       "34                 total_pymnt    25\n",
       "42             last_pymnt_amnt    26\n",
       "12              home_ownership    27\n",
       "25              inq_last_6mths    28\n",
       "5                         term    29\n",
       "17                         url    30\n",
       "20                    zip_code    31\n",
       "10                   emp_title    32\n",
       "19                       title    33\n",
       "0                           id    34\n",
       "18                     purpose    35\n",
       "29                  revol_util    36\n",
       "50        pub_rec_bankruptcies    37\n",
       "37               total_rec_int    38\n",
       "27                     pub_rec    39\n",
       "14         verification_status    40\n",
       "23                 delinq_2yrs    41\n",
       "16                  pymnt_plan    42\n",
       "49                 delinq_amnt    43\n",
       "31         initial_list_status    44\n",
       "44  collections_12_mths_ex_med    45\n",
       "45                 policy_code    46\n",
       "46            application_type    47\n",
       "47              acc_now_delinq    48\n",
       "32                   out_prncp    49\n",
       "33               out_prncp_inv    50\n",
       "48    chargeoff_within_12_mths    51\n",
       "51                   tax_liens    52"
      ]
     },
     "execution_count": 19,
     "metadata": {},
     "output_type": "execute_result"
    }
   ],
   "source": [
    "ranked"
   ]
  },
  {
   "cell_type": "code",
   "execution_count": 20,
   "metadata": {},
   "outputs": [],
   "source": [
    "top_22 = list(ranked['Feature_name'])[:21]\n",
    "x_Train_22 = x_Train[top_22]\n",
    "x_Test_22 = x_Test[top_22]"
   ]
  },
  {
   "cell_type": "code",
   "execution_count": 21,
   "metadata": {
    "scrolled": true
   },
   "outputs": [
    {
     "data": {
      "text/plain": [
       "(       recoveries  grade  collection_recovery_fee  last_credit_pull_d  \\\n",
       " 0            1579      0                      996                  17   \n",
       " 1               0      0                        0                   3   \n",
       " 2               0      2                        0                  14   \n",
       " 4               0      3                        0                  76   \n",
       " 5               0      0                        0                   8   \n",
       " ...           ...    ...                      ...                 ...   \n",
       " 24994           0      3                        0                  30   \n",
       " 24995           0      0                        0                  76   \n",
       " 24996           0      6                        0                  76   \n",
       " 24997           0      5                        0                  66   \n",
       " 24998           0      2                        0                  51   \n",
       " \n",
       "        sub_grade  last_pymnt_d  emp_length  total_acc  addr_state  issue_d  \\\n",
       " 0              3            19           1         41          30       11   \n",
       " 1              4             7           0          7          10        4   \n",
       " 2             12            14           4          0          10       53   \n",
       " 4             19            71           5         18           9       17   \n",
       " 5              4             8           7         12           4       45   \n",
       " ...          ...           ...         ...        ...         ...      ...   \n",
       " 24994         16            32           7         29           9       53   \n",
       " 24995          4            53           7          5          46       18   \n",
       " 24996         31            40           1         15          10        1   \n",
       " 24997         26            22           1         17          34       51   \n",
       " 24998         11            51          10          4          18       16   \n",
       " \n",
       "        ...  open_acc  int_rate  loan_amnt  earliest_cr_line  funded_amnt  \\\n",
       " 0      ...         9       322          1                 3            1   \n",
       " 1      ...        34       340        179               224          213   \n",
       " 2      ...        36       101        306               322          402   \n",
       " 4      ...        37       210        147                42          170   \n",
       " 5      ...         1       340         75               151           85   \n",
       " ...    ...       ...       ...        ...               ...          ...   \n",
       " 24994  ...         1       149        592               156          751   \n",
       " 24995  ...         0       334         55                40           61   \n",
       " 24996  ...        37       265        391               320          527   \n",
       " 24997  ...         3       213        147               290          170   \n",
       " 24998  ...         2        85        126               458          144   \n",
       " \n",
       "        total_rec_prncp   dti  annual_inc  funded_amnt_inv  installment  \n",
       " 0                  848  2267        1027             5358         4974  \n",
       " 1                  831  2115         440             1136         7774  \n",
       " 2                 1424  2550        1290             2155         9749  \n",
       " 4                  709  1417        1948              933         5833  \n",
       " 5                  381    45         998              440         6381  \n",
       " ...                ...   ...         ...              ...          ...  \n",
       " 24994             3399  1067        2044             3963         2290  \n",
       " 24995              269  1414        1491              287         6017  \n",
       " 24996             1831  1188        2920             2269         9535  \n",
       " 24997              709  1486        3260              280         8156  \n",
       " 24998              608  1077        2475              797         7449  \n",
       " \n",
       " [24301 rows x 21 columns],\n",
       "        recoveries  grade  collection_recovery_fee  last_credit_pull_d  \\\n",
       " 0               0      0                        0                  76   \n",
       " 1             792      2                        8                  59   \n",
       " 2               0      0                        0                  76   \n",
       " 3               0      3                        0                  76   \n",
       " 4               0      3                        0                  76   \n",
       " ...           ...    ...                      ...                 ...   \n",
       " 14713           0      0                        0                  38   \n",
       " 14714           0      1                        0                   5   \n",
       " 14715           0      0                        0                  80   \n",
       " 14716           0      0                        0                  80   \n",
       " 14717           0      0                        0                  80   \n",
       " \n",
       "        sub_grade  last_pymnt_d  emp_length  total_acc  addr_state  issue_d  \\\n",
       " 0              1            57           6          5          36       21   \n",
       " 1             11            56          10         21          18       13   \n",
       " 2              4             3           4         38          36       53   \n",
       " 3             17            76           1         15          36       20   \n",
       " 4             16            47           4         37           4       11   \n",
       " ...          ...           ...         ...        ...         ...      ...   \n",
       " 14713          2             5          10         32          10       26   \n",
       " 14714          5             5          10          3          19       26   \n",
       " 14715          3             5          10         31          46       26   \n",
       " 14716          3            77          10         11          19       26   \n",
       " 14717          1            80          10         17          20       26   \n",
       " \n",
       "        ...  open_acc  int_rate  loan_amnt  earliest_cr_line  funded_amnt  \\\n",
       " 0      ...         0       293        472                10          589   \n",
       " 1      ...        21        98         99               463          120   \n",
       " 2      ...         0       325          1               123            1   \n",
       " 3      ...        11       182        532                 7          651   \n",
       " 4      ...        11       151        351               290          465   \n",
       " ...    ...       ...       ...        ...               ...          ...   \n",
       " 14713  ...        28       311        513               349          631   \n",
       " 14714  ...         0       322        408               463          526   \n",
       " 14715  ...         2       316        498               322          615   \n",
       " 14716  ...         1       316        498               461          615   \n",
       " 14717  ...         7       305        498               416          615   \n",
       " \n",
       "        total_rec_prncp   dti  annual_inc  funded_amnt_inv  installment  \n",
       " 0                 1912   298        2066             2359          556  \n",
       " 1                  169  2043         612              500         5126  \n",
       " 2                    3   454        2209             3561         3644  \n",
       " 3                 2369   496        1844             2743          879  \n",
       " 4                 1306   738         273             1908         7638  \n",
       " ...                ...   ...         ...              ...          ...  \n",
       " 14713             2229  1963        2311             1436         1260  \n",
       " 14714             1529   643         643             3411         7855  \n",
       " 14715             2136  2216         442              818         1037  \n",
       " 14716             2136  1213           1              500         1037  \n",
       " 14717             2136  2035         503             2826         1010  \n",
       " \n",
       " [14276 rows x 21 columns])"
      ]
     },
     "execution_count": 21,
     "metadata": {},
     "output_type": "execute_result"
    }
   ],
   "source": [
    "x_Train_22,x_Test_22 "
   ]
  },
  {
   "cell_type": "code",
   "execution_count": 22,
   "metadata": {},
   "outputs": [
    {
     "data": {
      "text/plain": [
       "((14276, 52), (14276,))"
      ]
     },
     "execution_count": 22,
     "metadata": {},
     "output_type": "execute_result"
    }
   ],
   "source": [
    "x_Test.shape,y_Test.shape"
   ]
  },
  {
   "cell_type": "code",
   "execution_count": 23,
   "metadata": {},
   "outputs": [
    {
     "data": {
      "text/plain": [
       "((24301, 52), (24301,))"
      ]
     },
     "execution_count": 23,
     "metadata": {},
     "output_type": "execute_result"
    }
   ],
   "source": [
    "x_Train.shape, y_Train.shape"
   ]
  },
  {
   "cell_type": "code",
   "execution_count": 24,
   "metadata": {
    "scrolled": true
   },
   "outputs": [
    {
     "name": "stdout",
     "output_type": "stream",
     "text": [
      "Trees Count = 10   Accuracy = 0.9649761838049874\n",
      "              precision    recall  f1-score   support\n",
      "\n",
      "          -1       0.99      0.78      0.87      2153\n",
      "           1       0.96      1.00      0.98     12123\n",
      "\n",
      "    accuracy                           0.96     14276\n",
      "   macro avg       0.98      0.89      0.92     14276\n",
      "weighted avg       0.97      0.96      0.96     14276\n",
      "\n",
      "********************************************************************************************\n",
      "Trees Count = 40   Accuracy = 0.9674278509386383\n",
      "              precision    recall  f1-score   support\n",
      "\n",
      "          -1       0.97      0.81      0.88      2153\n",
      "           1       0.97      1.00      0.98     12123\n",
      "\n",
      "    accuracy                           0.97     14276\n",
      "   macro avg       0.97      0.90      0.93     14276\n",
      "weighted avg       0.97      0.97      0.97     14276\n",
      "\n",
      "********************************************************************************************\n",
      "Trees Count = 70   Accuracy = 0.9670075651442981\n",
      "              precision    recall  f1-score   support\n",
      "\n",
      "          -1       0.95      0.83      0.88      2153\n",
      "           1       0.97      0.99      0.98     12123\n",
      "\n",
      "    accuracy                           0.97     14276\n",
      "   macro avg       0.96      0.91      0.93     14276\n",
      "weighted avg       0.97      0.97      0.97     14276\n",
      "\n",
      "********************************************************************************************\n",
      "Trees Count = 150   Accuracy = 0.9670776127766881\n",
      "              precision    recall  f1-score   support\n",
      "\n",
      "          -1       0.92      0.86      0.89      2153\n",
      "           1       0.97      0.99      0.98     12123\n",
      "\n",
      "    accuracy                           0.97     14276\n",
      "   macro avg       0.95      0.92      0.93     14276\n",
      "weighted avg       0.97      0.97      0.97     14276\n",
      "\n",
      "********************************************************************************************\n",
      "Trees Count = 190   Accuracy = 0.966727374614738\n",
      "              precision    recall  f1-score   support\n",
      "\n",
      "          -1       0.91      0.86      0.89      2153\n",
      "           1       0.98      0.99      0.98     12123\n",
      "\n",
      "    accuracy                           0.97     14276\n",
      "   macro avg       0.95      0.92      0.93     14276\n",
      "weighted avg       0.97      0.97      0.97     14276\n",
      "\n",
      "********************************************************************************************\n",
      "Trees Count = 250   Accuracy = 0.9639955169515271\n",
      "              precision    recall  f1-score   support\n",
      "\n",
      "          -1       0.89      0.86      0.88      2153\n",
      "           1       0.98      0.98      0.98     12123\n",
      "\n",
      "    accuracy                           0.96     14276\n",
      "   macro avg       0.93      0.92      0.93     14276\n",
      "weighted avg       0.96      0.96      0.96     14276\n",
      "\n",
      "********************************************************************************************\n",
      "Trees Count = 310   Accuracy = 0.9649061361725974\n",
      "              precision    recall  f1-score   support\n",
      "\n",
      "          -1       0.90      0.87      0.88      2153\n",
      "           1       0.98      0.98      0.98     12123\n",
      "\n",
      "    accuracy                           0.96     14276\n",
      "   macro avg       0.94      0.92      0.93     14276\n",
      "weighted avg       0.96      0.96      0.96     14276\n",
      "\n",
      "********************************************************************************************\n"
     ]
    }
   ],
   "source": [
    "from sklearn.ensemble import GradientBoostingClassifier\n",
    "from sklearn.metrics import accuracy_score, auc, classification_report\n",
    "number_of_trees  = [10,40,70,150,190,250,310]\n",
    "Accuracy = []\n",
    "for i in number_of_trees:\n",
    "    clf = GradientBoostingClassifier(n_estimators=i, learning_rate=1.0,\n",
    "     max_depth=1, random_state=0).fit(x_Train_22, y_Train)\n",
    "    acc = clf.score(x_Test_22, y_Test)\n",
    "    Accuracy.append(acc)\n",
    "    pred = clf.predict(x_Test_22)\n",
    "    print(\"Trees Count =\",i,\"  Accuracy =\",acc)\n",
    "    print( classification_report(y_Test, pred))\n",
    "    print(\"********************************************************************************************\")\n",
    "    "
   ]
  },
  {
   "cell_type": "code",
   "execution_count": 25,
   "metadata": {},
   "outputs": [
    {
     "data": {
      "text/plain": [
       "[<matplotlib.lines.Line2D at 0x1e8efa78b00>]"
      ]
     },
     "execution_count": 25,
     "metadata": {},
     "output_type": "execute_result"
    },
    {
     "data": {
      "image/png": "[encoded data removed]",
      "text/plain": [
       "<Figure size 432x288 with 1 Axes>"
      ]
     },
     "metadata": {
      "needs_background": "light"
     },
     "output_type": "display_data"
    }
   ],
   "source": [
    "plt.plot(number_of_trees,Accuracy )"
   ]
  },
  {
   "cell_type": "code",
   "execution_count": 26,
   "metadata": {},
   "outputs": [
    {
     "name": "stdout",
     "output_type": "stream",
     "text": [
      "Trees Count = 40\n",
      "Accuracy = 0.9674278509386383\n"
     ]
    }
   ],
   "source": [
    "i=40\n",
    "clf = GradientBoostingClassifier(n_estimators=40, learning_rate=1.0,\n",
    "     max_depth=1, random_state=0).fit(x_Train_22, y_Train)\n",
    "print(\"Trees Count =\",i)\n",
    "print(\"Accuracy =\",clf.score(x_Test_22, y_Test))\n",
    "pred = clf.predict(x_Test_22)"
   ]
  },
  {
   "cell_type": "code",
   "execution_count": 27,
   "metadata": {},
   "outputs": [
    {
     "name": "stdout",
     "output_type": "stream",
     "text": [
      "              precision    recall  f1-score   support\n",
      "\n",
      "          -1       0.97      0.81      0.88      2153\n",
      "           1       0.97      1.00      0.98     12123\n",
      "\n",
      "    accuracy                           0.97     14276\n",
      "   macro avg       0.97      0.90      0.93     14276\n",
      "weighted avg       0.97      0.97      0.97     14276\n",
      "\n"
     ]
    }
   ],
   "source": [
    "from sklearn.metrics import accuracy_score, auc, classification_report\n",
    "print( classification_report(y_Test, pred))"
   ]
  },
  {
   "cell_type": "code",
   "execution_count": 28,
   "metadata": {},
   "outputs": [
    {
     "data": {
      "text/plain": [
       "DecisionTreeClassifier(ccp_alpha=0.0, class_weight=None, criterion='gini',\n",
       "                       max_depth=None, max_features=None, max_leaf_nodes=None,\n",
       "                       min_impurity_decrease=0.0, min_impurity_split=None,\n",
       "                       min_samples_leaf=1, min_samples_split=2,\n",
       "                       min_weight_fraction_leaf=0.0, presort='deprecated',\n",
       "                       random_state=0, splitter='best')"
      ]
     },
     "execution_count": 28,
     "metadata": {},
     "output_type": "execute_result"
    }
   ],
   "source": [
    "from sklearn.model_selection import cross_val_score\n",
    "from sklearn.tree import DecisionTreeClassifier\n",
    "clf = DecisionTreeClassifier(random_state=0)\n",
    "clf"
   ]
  },
  {
   "cell_type": "code",
   "execution_count": 29,
   "metadata": {},
   "outputs": [
    {
     "name": "stdout",
     "output_type": "stream",
     "text": [
      "Accuracy = 0.9508966096945923\n",
      "              precision    recall  f1-score   support\n",
      "\n",
      "          -1       0.82      0.86      0.84      2153\n",
      "           1       0.97      0.97      0.97     12123\n",
      "\n",
      "    accuracy                           0.95     14276\n",
      "   macro avg       0.90      0.91      0.91     14276\n",
      "weighted avg       0.95      0.95      0.95     14276\n",
      "\n"
     ]
    }
   ],
   "source": [
    "clf.fit(x_Train_22,y_Train)\n",
    "print(\"Accuracy =\",clf.score(x_Test_22, y_Test))\n",
    "pred = clf.predict(x_Test_22)\n",
    "print( classification_report(y_Test, pred))"
   ]
  },
  {
   "cell_type": "code",
   "execution_count": null,
   "metadata": {},
   "outputs": [],
   "source": []
  },
  {
   "cell_type": "code",
   "execution_count": null,
   "metadata": {},
   "outputs": [],
   "source": []
  }
 ],
 "metadata": {
  "kernelspec": {
   "display_name": "Python 3",
   "language": "python",
   "name": "python3"
  },
  "language_info": {
   "codemirror_mode": {
    "name": "ipython",
    "version": 3
   },
   "file_extension": ".py",
   "mimetype": "text/x-python",
   "name": "python",
   "nbconvert_exporter": "python",
   "pygments_lexer": "ipython3",
   "version": "3.6.10"
  }
 },
 "nbformat": 4,
 "nbformat_minor": 5
}
