{
 "cells": [
  {
   "cell_type": "markdown",
   "metadata": {},
   "source": [
    "# 1a"
   ]
  },
  {
   "cell_type": "code",
   "execution_count": 1,
   "metadata": {},
   "outputs": [],
   "source": [
    "import pandas as pd\n",
    "from sklearn.cluster import KMeans\n",
    "from sklearn.metrics import silhouette_score\n",
    "import matplotlib.pyplot as plt\n",
    "import numpy as np"
   ]
  },
  {
   "cell_type": "code",
   "execution_count": 2,
   "metadata": {},
   "outputs": [],
   "source": [
    "x = pd.read_csv(\"dataset1.txt\", delimiter= '\\s+', header=None)"
   ]
  },
  {
   "cell_type": "code",
   "execution_count": 3,
   "metadata": {},
   "outputs": [
    {
     "data": {
      "image/png": "[encoded data removed]",
      "text/plain": [
       "<Figure size 432x288 with 1 Axes>"
      ]
     },
     "metadata": {
      "needs_background": "light"
     },
     "output_type": "display_data"
    }
   ],
   "source": [
    "Silhouette = []\n",
    "Max = 10\n",
    "for k in range(2, Max+1):\n",
    "  kmeans = KMeans(n_clusters = k).fit(x)\n",
    "  labels = kmeans.labels_\n",
    "  Silhouette.append(silhouette_score(x, labels, metric = 'euclidean'))\n",
    "Pointx = [x for x in range(2,Max+1)]\n",
    "plt.plot(Pointx, Silhouette)\n",
    "plt.grid()"
   ]
  },
  {
   "cell_type": "markdown",
   "metadata": {},
   "source": [
    "### From above graph number of clusters=3"
   ]
  },
  {
   "cell_type": "code",
   "execution_count": 4,
   "metadata": {},
   "outputs": [
    {
     "data": {
      "text/plain": [
       "<matplotlib.collections.PathCollection at 0x2226849ec18>"
      ]
     },
     "execution_count": 4,
     "metadata": {},
     "output_type": "execute_result"
    },
    {
     "data": {
      "image/png": "[encoded data removed]",
      "text/plain": [
       "<Figure size 432x288 with 1 Axes>"
      ]
     },
     "metadata": {
      "needs_background": "light"
     },
     "output_type": "display_data"
    }
   ],
   "source": [
    "Kmean = KMeans(n_clusters=3)\n",
    "Kmean.fit(x)\n",
    "centroids = Kmean.cluster_centers_\n",
    "label = Kmean.fit_predict(x)\n",
    "plt.scatter(x.iloc[:, 0], x.iloc[:, 1], c= label ) \n",
    "plt.scatter(centroids[:, 0], centroids[:, 1], c='red', s=100,alpha= 1,marker=\"*\")"
   ]
  },
  {
   "cell_type": "markdown",
   "metadata": {},
   "source": [
    "# 1B"
   ]
  },
  {
   "cell_type": "code",
   "execution_count": 5,
   "metadata": {},
   "outputs": [
    {
     "data": {
      "text/html": [
       "<div>\n",
       "<style scoped>\n",
       "    .dataframe tbody tr th:only-of-type {\n",
       "        vertical-align: middle;\n",
       "    }\n",
       "\n",
       "    .dataframe tbody tr th {\n",
       "        vertical-align: top;\n",
       "    }\n",
       "\n",
       "    .dataframe thead th {\n",
       "        text-align: right;\n",
       "    }\n",
       "</style>\n",
       "<table border=\"1\" class=\"dataframe\">\n",
       "  <thead>\n",
       "    <tr style=\"text-align: right;\">\n",
       "      <th></th>\n",
       "      <th>0</th>\n",
       "      <th>1</th>\n",
       "      <th>2</th>\n",
       "      <th>3</th>\n",
       "      <th>4</th>\n",
       "      <th>5</th>\n",
       "      <th>6</th>\n",
       "      <th>7</th>\n",
       "      <th>8</th>\n",
       "      <th>9</th>\n",
       "      <th>...</th>\n",
       "      <th>490</th>\n",
       "      <th>491</th>\n",
       "      <th>492</th>\n",
       "      <th>493</th>\n",
       "      <th>494</th>\n",
       "      <th>495</th>\n",
       "      <th>496</th>\n",
       "      <th>497</th>\n",
       "      <th>498</th>\n",
       "      <th>499</th>\n",
       "    </tr>\n",
       "  </thead>\n",
       "  <tbody>\n",
       "    <tr>\n",
       "      <th>0</th>\n",
       "      <td>0.000000</td>\n",
       "      <td>2.529635</td>\n",
       "      <td>0.126085</td>\n",
       "      <td>2.508116</td>\n",
       "      <td>1.043383</td>\n",
       "      <td>0.750773</td>\n",
       "      <td>0.656198</td>\n",
       "      <td>2.029558</td>\n",
       "      <td>1.028076</td>\n",
       "      <td>1.679400</td>\n",
       "      <td>...</td>\n",
       "      <td>1.569266</td>\n",
       "      <td>2.533922</td>\n",
       "      <td>2.516408</td>\n",
       "      <td>1.354604</td>\n",
       "      <td>2.348891</td>\n",
       "      <td>1.317505</td>\n",
       "      <td>2.470690</td>\n",
       "      <td>0.511542</td>\n",
       "      <td>2.143445</td>\n",
       "      <td>1.317246</td>\n",
       "    </tr>\n",
       "    <tr>\n",
       "      <th>1</th>\n",
       "      <td>2.529635</td>\n",
       "      <td>0.000000</td>\n",
       "      <td>2.429752</td>\n",
       "      <td>0.425691</td>\n",
       "      <td>1.507473</td>\n",
       "      <td>1.832038</td>\n",
       "      <td>1.992205</td>\n",
       "      <td>1.326972</td>\n",
       "      <td>1.912732</td>\n",
       "      <td>1.041161</td>\n",
       "      <td>...</td>\n",
       "      <td>1.037969</td>\n",
       "      <td>0.075683</td>\n",
       "      <td>0.376250</td>\n",
       "      <td>1.791648</td>\n",
       "      <td>0.888818</td>\n",
       "      <td>1.212440</td>\n",
       "      <td>0.584341</td>\n",
       "      <td>2.852914</td>\n",
       "      <td>1.199932</td>\n",
       "      <td>1.808147</td>\n",
       "    </tr>\n",
       "    <tr>\n",
       "      <th>2</th>\n",
       "      <td>0.126085</td>\n",
       "      <td>2.429752</td>\n",
       "      <td>0.000000</td>\n",
       "      <td>2.422906</td>\n",
       "      <td>0.933740</td>\n",
       "      <td>0.632415</td>\n",
       "      <td>0.618405</td>\n",
       "      <td>1.986197</td>\n",
       "      <td>1.013452</td>\n",
       "      <td>1.607589</td>\n",
       "      <td>...</td>\n",
       "      <td>1.487977</td>\n",
       "      <td>2.436426</td>\n",
       "      <td>2.429336</td>\n",
       "      <td>1.337571</td>\n",
       "      <td>2.283232</td>\n",
       "      <td>1.220024</td>\n",
       "      <td>2.391741</td>\n",
       "      <td>0.632415</td>\n",
       "      <td>2.093217</td>\n",
       "      <td>1.300949</td>\n",
       "    </tr>\n",
       "    <tr>\n",
       "      <th>3</th>\n",
       "      <td>2.508116</td>\n",
       "      <td>0.425691</td>\n",
       "      <td>2.422906</td>\n",
       "      <td>0.000000</td>\n",
       "      <td>1.555070</td>\n",
       "      <td>1.878404</td>\n",
       "      <td>1.909008</td>\n",
       "      <td>0.978068</td>\n",
       "      <td>1.744529</td>\n",
       "      <td>0.866630</td>\n",
       "      <td>...</td>\n",
       "      <td>0.940609</td>\n",
       "      <td>0.351437</td>\n",
       "      <td>0.050462</td>\n",
       "      <td>1.561413</td>\n",
       "      <td>0.487108</td>\n",
       "      <td>1.222999</td>\n",
       "      <td>0.163835</td>\n",
       "      <td>2.764604</td>\n",
       "      <td>0.831873</td>\n",
       "      <td>1.584785</td>\n",
       "    </tr>\n",
       "    <tr>\n",
       "      <th>4</th>\n",
       "      <td>1.043383</td>\n",
       "      <td>1.507473</td>\n",
       "      <td>0.933740</td>\n",
       "      <td>1.555070</td>\n",
       "      <td>0.000000</td>\n",
       "      <td>0.326569</td>\n",
       "      <td>0.678935</td>\n",
       "      <td>1.407550</td>\n",
       "      <td>0.908235</td>\n",
       "      <td>0.866143</td>\n",
       "      <td>...</td>\n",
       "      <td>0.691938</td>\n",
       "      <td>1.520552</td>\n",
       "      <td>1.552846</td>\n",
       "      <td>1.083376</td>\n",
       "      <td>1.529144</td>\n",
       "      <td>0.339010</td>\n",
       "      <td>1.556012</td>\n",
       "      <td>1.445091</td>\n",
       "      <td>1.455088</td>\n",
       "      <td>1.063945</td>\n",
       "    </tr>\n",
       "    <tr>\n",
       "      <th>...</th>\n",
       "      <td>...</td>\n",
       "      <td>...</td>\n",
       "      <td>...</td>\n",
       "      <td>...</td>\n",
       "      <td>...</td>\n",
       "      <td>...</td>\n",
       "      <td>...</td>\n",
       "      <td>...</td>\n",
       "      <td>...</td>\n",
       "      <td>...</td>\n",
       "      <td>...</td>\n",
       "      <td>...</td>\n",
       "      <td>...</td>\n",
       "      <td>...</td>\n",
       "      <td>...</td>\n",
       "      <td>...</td>\n",
       "      <td>...</td>\n",
       "      <td>...</td>\n",
       "      <td>...</td>\n",
       "      <td>...</td>\n",
       "      <td>...</td>\n",
       "    </tr>\n",
       "    <tr>\n",
       "      <th>495</th>\n",
       "      <td>1.317505</td>\n",
       "      <td>1.212440</td>\n",
       "      <td>1.220024</td>\n",
       "      <td>1.222999</td>\n",
       "      <td>0.339010</td>\n",
       "      <td>0.656303</td>\n",
       "      <td>0.814514</td>\n",
       "      <td>1.119122</td>\n",
       "      <td>0.887329</td>\n",
       "      <td>0.548040</td>\n",
       "      <td>...</td>\n",
       "      <td>0.363851</td>\n",
       "      <td>1.216718</td>\n",
       "      <td>1.223495</td>\n",
       "      <td>0.958097</td>\n",
       "      <td>1.194229</td>\n",
       "      <td>0.000000</td>\n",
       "      <td>1.218190</td>\n",
       "      <td>1.658545</td>\n",
       "      <td>1.146654</td>\n",
       "      <td>0.949672</td>\n",
       "    </tr>\n",
       "    <tr>\n",
       "      <th>496</th>\n",
       "      <td>2.470690</td>\n",
       "      <td>0.584341</td>\n",
       "      <td>2.391741</td>\n",
       "      <td>0.163835</td>\n",
       "      <td>1.556012</td>\n",
       "      <td>1.873467</td>\n",
       "      <td>1.853737</td>\n",
       "      <td>0.831873</td>\n",
       "      <td>1.658545</td>\n",
       "      <td>0.800523</td>\n",
       "      <td>...</td>\n",
       "      <td>0.904070</td>\n",
       "      <td>0.511542</td>\n",
       "      <td>0.214075</td>\n",
       "      <td>1.453785</td>\n",
       "      <td>0.326569</td>\n",
       "      <td>1.218190</td>\n",
       "      <td>0.000000</td>\n",
       "      <td>2.700313</td>\n",
       "      <td>0.680087</td>\n",
       "      <td>1.479517</td>\n",
       "    </tr>\n",
       "    <tr>\n",
       "      <th>497</th>\n",
       "      <td>0.511542</td>\n",
       "      <td>2.852914</td>\n",
       "      <td>0.632415</td>\n",
       "      <td>2.764604</td>\n",
       "      <td>1.445091</td>\n",
       "      <td>1.199932</td>\n",
       "      <td>0.862056</td>\n",
       "      <td>2.121918</td>\n",
       "      <td>1.080437</td>\n",
       "      <td>1.901332</td>\n",
       "      <td>...</td>\n",
       "      <td>1.834204</td>\n",
       "      <td>2.845905</td>\n",
       "      <td>2.781053</td>\n",
       "      <td>1.379607</td>\n",
       "      <td>2.524157</td>\n",
       "      <td>1.658545</td>\n",
       "      <td>2.700313</td>\n",
       "      <td>0.000000</td>\n",
       "      <td>2.260085</td>\n",
       "      <td>1.342672</td>\n",
       "    </tr>\n",
       "    <tr>\n",
       "      <th>498</th>\n",
       "      <td>2.143445</td>\n",
       "      <td>1.199932</td>\n",
       "      <td>2.093217</td>\n",
       "      <td>0.831873</td>\n",
       "      <td>1.455088</td>\n",
       "      <td>1.715805</td>\n",
       "      <td>1.487977</td>\n",
       "      <td>0.163835</td>\n",
       "      <td>1.179650</td>\n",
       "      <td>0.599364</td>\n",
       "      <td>...</td>\n",
       "      <td>0.787457</td>\n",
       "      <td>1.138524</td>\n",
       "      <td>0.877498</td>\n",
       "      <td>0.900103</td>\n",
       "      <td>0.363851</td>\n",
       "      <td>1.146654</td>\n",
       "      <td>0.680087</td>\n",
       "      <td>2.260085</td>\n",
       "      <td>0.000000</td>\n",
       "      <td>0.933740</td>\n",
       "    </tr>\n",
       "    <tr>\n",
       "      <th>499</th>\n",
       "      <td>1.317246</td>\n",
       "      <td>1.808147</td>\n",
       "      <td>1.300949</td>\n",
       "      <td>1.584785</td>\n",
       "      <td>1.063945</td>\n",
       "      <td>1.162897</td>\n",
       "      <td>0.691938</td>\n",
       "      <td>0.785719</td>\n",
       "      <td>0.289170</td>\n",
       "      <td>0.768688</td>\n",
       "      <td>...</td>\n",
       "      <td>0.826469</td>\n",
       "      <td>1.774507</td>\n",
       "      <td>1.615062</td>\n",
       "      <td>0.037848</td>\n",
       "      <td>1.239921</td>\n",
       "      <td>0.949672</td>\n",
       "      <td>1.479517</td>\n",
       "      <td>1.342672</td>\n",
       "      <td>0.933740</td>\n",
       "      <td>0.000000</td>\n",
       "    </tr>\n",
       "  </tbody>\n",
       "</table>\n",
       "<p>500 rows × 500 columns</p>\n",
       "</div>"
      ],
      "text/plain": [
       "          0         1         2         3         4         5         6    \\\n",
       "0    0.000000  2.529635  0.126085  2.508116  1.043383  0.750773  0.656198   \n",
       "1    2.529635  0.000000  2.429752  0.425691  1.507473  1.832038  1.992205   \n",
       "2    0.126085  2.429752  0.000000  2.422906  0.933740  0.632415  0.618405   \n",
       "3    2.508116  0.425691  2.422906  0.000000  1.555070  1.878404  1.909008   \n",
       "4    1.043383  1.507473  0.933740  1.555070  0.000000  0.326569  0.678935   \n",
       "..        ...       ...       ...       ...       ...       ...       ...   \n",
       "495  1.317505  1.212440  1.220024  1.222999  0.339010  0.656303  0.814514   \n",
       "496  2.470690  0.584341  2.391741  0.163835  1.556012  1.873467  1.853737   \n",
       "497  0.511542  2.852914  0.632415  2.764604  1.445091  1.199932  0.862056   \n",
       "498  2.143445  1.199932  2.093217  0.831873  1.455088  1.715805  1.487977   \n",
       "499  1.317246  1.808147  1.300949  1.584785  1.063945  1.162897  0.691938   \n",
       "\n",
       "          7         8         9    ...       490       491       492  \\\n",
       "0    2.029558  1.028076  1.679400  ...  1.569266  2.533922  2.516408   \n",
       "1    1.326972  1.912732  1.041161  ...  1.037969  0.075683  0.376250   \n",
       "2    1.986197  1.013452  1.607589  ...  1.487977  2.436426  2.429336   \n",
       "3    0.978068  1.744529  0.866630  ...  0.940609  0.351437  0.050462   \n",
       "4    1.407550  0.908235  0.866143  ...  0.691938  1.520552  1.552846   \n",
       "..        ...       ...       ...  ...       ...       ...       ...   \n",
       "495  1.119122  0.887329  0.548040  ...  0.363851  1.216718  1.223495   \n",
       "496  0.831873  1.658545  0.800523  ...  0.904070  0.511542  0.214075   \n",
       "497  2.121918  1.080437  1.901332  ...  1.834204  2.845905  2.781053   \n",
       "498  0.163835  1.179650  0.599364  ...  0.787457  1.138524  0.877498   \n",
       "499  0.785719  0.289170  0.768688  ...  0.826469  1.774507  1.615062   \n",
       "\n",
       "          493       494       495       496       497       498       499  \n",
       "0    1.354604  2.348891  1.317505  2.470690  0.511542  2.143445  1.317246  \n",
       "1    1.791648  0.888818  1.212440  0.584341  2.852914  1.199932  1.808147  \n",
       "2    1.337571  2.283232  1.220024  2.391741  0.632415  2.093217  1.300949  \n",
       "3    1.561413  0.487108  1.222999  0.163835  2.764604  0.831873  1.584785  \n",
       "4    1.083376  1.529144  0.339010  1.556012  1.445091  1.455088  1.063945  \n",
       "..        ...       ...       ...       ...       ...       ...       ...  \n",
       "495  0.958097  1.194229  0.000000  1.218190  1.658545  1.146654  0.949672  \n",
       "496  1.453785  0.326569  1.218190  0.000000  2.700313  0.680087  1.479517  \n",
       "497  1.379607  2.524157  1.658545  2.700313  0.000000  2.260085  1.342672  \n",
       "498  0.900103  0.363851  1.146654  0.680087  2.260085  0.000000  0.933740  \n",
       "499  0.037848  1.239921  0.949672  1.479517  1.342672  0.933740  0.000000  \n",
       "\n",
       "[500 rows x 500 columns]"
      ]
     },
     "execution_count": 5,
     "metadata": {},
     "output_type": "execute_result"
    }
   ],
   "source": [
    "from sklearn.cluster import DBSCAN\n",
    "from sklearn.metrics.pairwise import euclidean_distances\n",
    "Distance_pairwise = pd.DataFrame(euclidean_distances(x,x)) \n",
    "Distance_pairwise"
   ]
  },
  {
   "cell_type": "code",
   "execution_count": 6,
   "metadata": {},
   "outputs": [
    {
     "data": {
      "image/png": "[encoded data removed]",
      "text/plain": [
       "<Figure size 1440x720 with 1 Axes>"
      ]
     },
     "metadata": {
      "needs_background": "light"
     },
     "output_type": "display_data"
    }
   ],
   "source": [
    "from sklearn.neighbors import NearestNeighbors\n",
    "neigh = NearestNeighbors(n_neighbors=2)\n",
    "neighbor_s = neigh.fit(x[[0,1]])\n",
    "dists, indices = neighbor_s.kneighbors(x[[0,1]])\n",
    "dists = np.sort(dists, axis=0)\n",
    "dists = dists[:,1]\n",
    "plt.figure(figsize=(20,10))\n",
    "plt.plot(dists)\n",
    "plt.title('K-distance Graph',fontsize=20)\n",
    "plt.xlabel('Data Points sorted by distance',fontsize=14)\n",
    "plt.ylabel('Epsilon',fontsize=14)\n",
    "plt.grid()\n",
    "plt.show()\n"
   ]
  },
  {
   "cell_type": "markdown",
   "metadata": {},
   "source": [
    "### From above graph for epsilon value curvature is around (84 * 1e-12+1.26167542e-2)"
   ]
  },
  {
   "cell_type": "code",
   "execution_count": 7,
   "metadata": {},
   "outputs": [
    {
     "name": "stdout",
     "output_type": "stream",
     "text": [
      "[1 2]\n"
     ]
    },
    {
     "data": {
      "text/plain": [
       "<matplotlib.collections.PathCollection at 0x22268fbbe48>"
      ]
     },
     "execution_count": 7,
     "metadata": {},
     "output_type": "execute_result"
    },
    {
     "data": {
      "image/png": "[encoded data removed]",
      "text/plain": [
       "<Figure size 432x288 with 1 Axes>"
      ]
     },
     "metadata": {
      "needs_background": "light"
     },
     "output_type": "display_data"
    }
   ],
   "source": [
    "data_points=x.shape[0]\n",
    "label = [-1]*data_points \n",
    "visited = [0]*data_points \n",
    "\n",
    "Minimum_points = 3\n",
    "epsilon =0.14 \n",
    "cid = 0\n",
    "\n",
    "for i in range(data_points):\n",
    "    if visited[i] == 0:\n",
    "        visited[i] = 1 \n",
    "        friends = Distance_pairwise[Distance_pairwise[i] <  epsilon].index.tolist() \n",
    "        if len(friends) -1 >= epsilon: \n",
    "            cid += 1\n",
    "            label[i] = cid\n",
    "            for friend in friends:\n",
    "                if friend != i: \n",
    "                    if visited[friend] == 0:\n",
    "                        visited[friend] = 1\n",
    "                        commonFriends = Distance_pairwise[Distance_pairwise[friend] <  epsilon].index.tolist() \n",
    "                        if len(commonFriends) -1 >= epsilon: \n",
    "                            friends.extend(commonFriends)\n",
    "                        if label[friend] == -1:\n",
    "                            label[friend] = cid\n",
    "        else:\n",
    "            label[i] = 0 \n",
    "print(np.unique(label))\n",
    "plt.scatter(x.iloc[:, 0], x.iloc[:, 1], c= label )"
   ]
  },
  {
   "cell_type": "markdown",
   "metadata": {},
   "source": [
    "# 1C"
   ]
  },
  {
   "cell_type": "markdown",
   "metadata": {},
   "source": [
    "(c) What differences do you see between the DBSCAN and k-means methods, and why?"
   ]
  },
  {
   "cell_type": "raw",
   "metadata": {},
   "source": [
    "k-means assumes the variance of the distribution of each attribute (variable) is spherical;\n",
    "all variables have the same variance;\n",
    "the prior probability for all k clusters is the same, i.e., each cluster has roughly equal number of observations;\n",
    "Over dataset1,as it is non spherical data K-means failed to cluster the data points into two different clusters We can see three different  clusters using k-means.while DBSCAN is a density-based clustering algorithm that works on the assumption that clusters are dense regions in space separated by regions of lower density and it is robust to outliers.It groups ‘densely grouped’ data points into a single cluster and worked well on datset1 by dividing it into two clusters \n"
   ]
  },
  {
   "cell_type": "markdown",
   "metadata": {},
   "source": [
    "# 1D"
   ]
  },
  {
   "cell_type": "code",
   "execution_count": 8,
   "metadata": {},
   "outputs": [],
   "source": [
    "p = pd.read_csv(\"dataset2.txt\", delimiter= '\\s+', header=None)"
   ]
  },
  {
   "cell_type": "code",
   "execution_count": 9,
   "metadata": {},
   "outputs": [
    {
     "data": {
      "image/png": "[encoded data removed]",
      "text/plain": [
       "<Figure size 432x288 with 1 Axes>"
      ]
     },
     "metadata": {
      "needs_background": "light"
     },
     "output_type": "display_data"
    }
   ],
   "source": [
    "Silhouette = []\n",
    "Max = 10\n",
    "for k in range(2, Max+1):\n",
    "  kmeans = KMeans(n_clusters = k).fit(p)\n",
    "  labels = kmeans.labels_\n",
    "  Silhouette.append(silhouette_score(p, labels, metric = 'euclidean'))\n",
    "Pointx = [x for x in range(2,Max+1)]\n",
    "plt.plot(Pointx, Silhouette)\n",
    "plt.grid()"
   ]
  },
  {
   "cell_type": "markdown",
   "metadata": {},
   "source": [
    "### From above graph number of clusters=3"
   ]
  },
  {
   "cell_type": "code",
   "execution_count": 10,
   "metadata": {},
   "outputs": [
    {
     "data": {
      "text/plain": [
       "<matplotlib.collections.PathCollection at 0x22268419400>"
      ]
     },
     "execution_count": 10,
     "metadata": {},
     "output_type": "execute_result"
    },
    {
     "data": {
      "image/png": "[encoded data removed]",
      "text/plain": [
       "<Figure size 432x288 with 1 Axes>"
      ]
     },
     "metadata": {
      "needs_background": "light"
     },
     "output_type": "display_data"
    }
   ],
   "source": [
    "Kmean = KMeans(n_clusters=3)\n",
    "Kmean.fit(p)\n",
    "centroids = Kmean.cluster_centers_\n",
    "label = Kmean.fit_predict(p)\n",
    "plt.scatter(p.iloc[:, 0], p.iloc[:, 1], c= label ) \n",
    "plt.scatter(centroids[:, 0], centroids[:, 1], c='red', alpha= 1)"
   ]
  },
  {
   "cell_type": "code",
   "execution_count": 12,
   "metadata": {},
   "outputs": [
    {
     "data": {
      "text/html": [
       "<div>\n",
       "<style scoped>\n",
       "    .dataframe tbody tr th:only-of-type {\n",
       "        vertical-align: middle;\n",
       "    }\n",
       "\n",
       "    .dataframe tbody tr th {\n",
       "        vertical-align: top;\n",
       "    }\n",
       "\n",
       "    .dataframe thead th {\n",
       "        text-align: right;\n",
       "    }\n",
       "</style>\n",
       "<table border=\"1\" class=\"dataframe\">\n",
       "  <thead>\n",
       "    <tr style=\"text-align: right;\">\n",
       "      <th></th>\n",
       "      <th>0</th>\n",
       "      <th>1</th>\n",
       "      <th>2</th>\n",
       "      <th>3</th>\n",
       "      <th>4</th>\n",
       "      <th>5</th>\n",
       "      <th>6</th>\n",
       "      <th>7</th>\n",
       "      <th>8</th>\n",
       "      <th>9</th>\n",
       "      <th>...</th>\n",
       "      <th>490</th>\n",
       "      <th>491</th>\n",
       "      <th>492</th>\n",
       "      <th>493</th>\n",
       "      <th>494</th>\n",
       "      <th>495</th>\n",
       "      <th>496</th>\n",
       "      <th>497</th>\n",
       "      <th>498</th>\n",
       "      <th>499</th>\n",
       "    </tr>\n",
       "  </thead>\n",
       "  <tbody>\n",
       "    <tr>\n",
       "      <th>0</th>\n",
       "      <td>0.000000</td>\n",
       "      <td>11.193583</td>\n",
       "      <td>11.981049</td>\n",
       "      <td>19.162134</td>\n",
       "      <td>16.840769</td>\n",
       "      <td>8.837177</td>\n",
       "      <td>10.841607</td>\n",
       "      <td>1.139272</td>\n",
       "      <td>1.457447</td>\n",
       "      <td>12.347582</td>\n",
       "      <td>...</td>\n",
       "      <td>0.906434</td>\n",
       "      <td>11.886846</td>\n",
       "      <td>17.379170</td>\n",
       "      <td>0.653704</td>\n",
       "      <td>10.494195</td>\n",
       "      <td>134.656595</td>\n",
       "      <td>135.855892</td>\n",
       "      <td>130.907200</td>\n",
       "      <td>136.632577</td>\n",
       "      <td>136.076914</td>\n",
       "    </tr>\n",
       "    <tr>\n",
       "      <th>1</th>\n",
       "      <td>11.193583</td>\n",
       "      <td>0.000000</td>\n",
       "      <td>0.802365</td>\n",
       "      <td>8.010645</td>\n",
       "      <td>5.669824</td>\n",
       "      <td>2.738808</td>\n",
       "      <td>0.534664</td>\n",
       "      <td>11.942377</td>\n",
       "      <td>12.270921</td>\n",
       "      <td>1.204214</td>\n",
       "      <td>...</td>\n",
       "      <td>10.304091</td>\n",
       "      <td>1.456485</td>\n",
       "      <td>6.219338</td>\n",
       "      <td>11.453389</td>\n",
       "      <td>0.712429</td>\n",
       "      <td>139.211765</td>\n",
       "      <td>141.018403</td>\n",
       "      <td>135.245910</td>\n",
       "      <td>141.190069</td>\n",
       "      <td>140.413313</td>\n",
       "    </tr>\n",
       "    <tr>\n",
       "      <th>2</th>\n",
       "      <td>11.981049</td>\n",
       "      <td>0.802365</td>\n",
       "      <td>0.000000</td>\n",
       "      <td>7.257409</td>\n",
       "      <td>4.911657</td>\n",
       "      <td>3.518795</td>\n",
       "      <td>1.273083</td>\n",
       "      <td>12.716654</td>\n",
       "      <td>13.043179</td>\n",
       "      <td>0.414887</td>\n",
       "      <td>...</td>\n",
       "      <td>11.089143</td>\n",
       "      <td>1.486515</td>\n",
       "      <td>5.466375</td>\n",
       "      <td>12.231907</td>\n",
       "      <td>1.514755</td>\n",
       "      <td>139.417387</td>\n",
       "      <td>141.269151</td>\n",
       "      <td>135.436334</td>\n",
       "      <td>141.395429</td>\n",
       "      <td>140.602371</td>\n",
       "    </tr>\n",
       "    <tr>\n",
       "      <th>3</th>\n",
       "      <td>19.162134</td>\n",
       "      <td>8.010645</td>\n",
       "      <td>7.257409</td>\n",
       "      <td>0.000000</td>\n",
       "      <td>2.346687</td>\n",
       "      <td>10.383250</td>\n",
       "      <td>8.325258</td>\n",
       "      <td>19.944386</td>\n",
       "      <td>20.275380</td>\n",
       "      <td>6.939579</td>\n",
       "      <td>...</td>\n",
       "      <td>18.283335</td>\n",
       "      <td>7.322643</td>\n",
       "      <td>1.791568</td>\n",
       "      <td>19.448450</td>\n",
       "      <td>8.689845</td>\n",
       "      <td>143.825585</td>\n",
       "      <td>146.000778</td>\n",
       "      <td>139.736821</td>\n",
       "      <td>145.799867</td>\n",
       "      <td>144.887652</td>\n",
       "    </tr>\n",
       "    <tr>\n",
       "      <th>4</th>\n",
       "      <td>16.840769</td>\n",
       "      <td>5.669824</td>\n",
       "      <td>4.911657</td>\n",
       "      <td>2.346687</td>\n",
       "      <td>0.000000</td>\n",
       "      <td>8.102667</td>\n",
       "      <td>5.999164</td>\n",
       "      <td>17.609789</td>\n",
       "      <td>17.939442</td>\n",
       "      <td>4.593258</td>\n",
       "      <td>...</td>\n",
       "      <td>15.957946</td>\n",
       "      <td>5.063995</td>\n",
       "      <td>0.562539</td>\n",
       "      <td>17.117114</td>\n",
       "      <td>6.354823</td>\n",
       "      <td>142.332012</td>\n",
       "      <td>144.407229</td>\n",
       "      <td>138.275975</td>\n",
       "      <td>144.307809</td>\n",
       "      <td>143.432500</td>\n",
       "    </tr>\n",
       "    <tr>\n",
       "      <th>...</th>\n",
       "      <td>...</td>\n",
       "      <td>...</td>\n",
       "      <td>...</td>\n",
       "      <td>...</td>\n",
       "      <td>...</td>\n",
       "      <td>...</td>\n",
       "      <td>...</td>\n",
       "      <td>...</td>\n",
       "      <td>...</td>\n",
       "      <td>...</td>\n",
       "      <td>...</td>\n",
       "      <td>...</td>\n",
       "      <td>...</td>\n",
       "      <td>...</td>\n",
       "      <td>...</td>\n",
       "      <td>...</td>\n",
       "      <td>...</td>\n",
       "      <td>...</td>\n",
       "      <td>...</td>\n",
       "      <td>...</td>\n",
       "      <td>...</td>\n",
       "    </tr>\n",
       "    <tr>\n",
       "      <th>495</th>\n",
       "      <td>134.656595</td>\n",
       "      <td>139.211765</td>\n",
       "      <td>139.417387</td>\n",
       "      <td>143.825585</td>\n",
       "      <td>142.332012</td>\n",
       "      <td>139.273091</td>\n",
       "      <td>139.409952</td>\n",
       "      <td>133.567949</td>\n",
       "      <td>133.319788</td>\n",
       "      <td>139.398409</td>\n",
       "      <td>...</td>\n",
       "      <td>134.835835</td>\n",
       "      <td>140.668055</td>\n",
       "      <td>142.745906</td>\n",
       "      <td>134.002891</td>\n",
       "      <td>139.022968</td>\n",
       "      <td>0.000000</td>\n",
       "      <td>8.427271</td>\n",
       "      <td>4.795034</td>\n",
       "      <td>1.978751</td>\n",
       "      <td>3.210013</td>\n",
       "    </tr>\n",
       "    <tr>\n",
       "      <th>496</th>\n",
       "      <td>135.855892</td>\n",
       "      <td>141.018403</td>\n",
       "      <td>141.269151</td>\n",
       "      <td>146.000778</td>\n",
       "      <td>144.407229</td>\n",
       "      <td>140.918486</td>\n",
       "      <td>141.187097</td>\n",
       "      <td>134.748544</td>\n",
       "      <td>134.485674</td>\n",
       "      <td>141.274467</td>\n",
       "      <td>...</td>\n",
       "      <td>136.089497</td>\n",
       "      <td>142.470813</td>\n",
       "      <td>144.842111</td>\n",
       "      <td>135.203412</td>\n",
       "      <td>140.789542</td>\n",
       "      <td>8.427271</td>\n",
       "      <td>0.000000</td>\n",
       "      <td>12.267375</td>\n",
       "      <td>8.333693</td>\n",
       "      <td>11.277176</td>\n",
       "    </tr>\n",
       "    <tr>\n",
       "      <th>497</th>\n",
       "      <td>130.907200</td>\n",
       "      <td>135.245910</td>\n",
       "      <td>135.436334</td>\n",
       "      <td>139.736821</td>\n",
       "      <td>138.275975</td>\n",
       "      <td>135.361774</td>\n",
       "      <td>135.453831</td>\n",
       "      <td>129.826437</td>\n",
       "      <td>129.583911</td>\n",
       "      <td>135.409316</td>\n",
       "      <td>...</td>\n",
       "      <td>131.066489</td>\n",
       "      <td>136.702387</td>\n",
       "      <td>138.682881</td>\n",
       "      <td>130.253672</td>\n",
       "      <td>135.070702</td>\n",
       "      <td>4.795034</td>\n",
       "      <td>12.267375</td>\n",
       "      <td>0.000000</td>\n",
       "      <td>6.517464</td>\n",
       "      <td>5.172392</td>\n",
       "    </tr>\n",
       "    <tr>\n",
       "      <th>498</th>\n",
       "      <td>136.632577</td>\n",
       "      <td>141.190069</td>\n",
       "      <td>141.395429</td>\n",
       "      <td>145.799867</td>\n",
       "      <td>144.307809</td>\n",
       "      <td>141.251840</td>\n",
       "      <td>141.388393</td>\n",
       "      <td>135.543666</td>\n",
       "      <td>135.295302</td>\n",
       "      <td>141.376286</td>\n",
       "      <td>...</td>\n",
       "      <td>136.812460</td>\n",
       "      <td>142.646366</td>\n",
       "      <td>144.721409</td>\n",
       "      <td>135.978873</td>\n",
       "      <td>141.001455</td>\n",
       "      <td>1.978751</td>\n",
       "      <td>8.333693</td>\n",
       "      <td>6.517464</td>\n",
       "      <td>0.000000</td>\n",
       "      <td>3.055867</td>\n",
       "    </tr>\n",
       "    <tr>\n",
       "      <th>499</th>\n",
       "      <td>136.076914</td>\n",
       "      <td>140.413313</td>\n",
       "      <td>140.602371</td>\n",
       "      <td>144.887652</td>\n",
       "      <td>143.432500</td>\n",
       "      <td>140.532668</td>\n",
       "      <td>140.622013</td>\n",
       "      <td>134.995681</td>\n",
       "      <td>134.752805</td>\n",
       "      <td>140.574561</td>\n",
       "      <td>...</td>\n",
       "      <td>136.237199</td>\n",
       "      <td>141.869782</td>\n",
       "      <td>143.838270</td>\n",
       "      <td>135.423367</td>\n",
       "      <td>140.239180</td>\n",
       "      <td>3.210013</td>\n",
       "      <td>11.277176</td>\n",
       "      <td>5.172392</td>\n",
       "      <td>3.055867</td>\n",
       "      <td>0.000000</td>\n",
       "    </tr>\n",
       "  </tbody>\n",
       "</table>\n",
       "<p>500 rows × 500 columns</p>\n",
       "</div>"
      ],
      "text/plain": [
       "            0           1           2           3           4           5    \\\n",
       "0      0.000000   11.193583   11.981049   19.162134   16.840769    8.837177   \n",
       "1     11.193583    0.000000    0.802365    8.010645    5.669824    2.738808   \n",
       "2     11.981049    0.802365    0.000000    7.257409    4.911657    3.518795   \n",
       "3     19.162134    8.010645    7.257409    0.000000    2.346687   10.383250   \n",
       "4     16.840769    5.669824    4.911657    2.346687    0.000000    8.102667   \n",
       "..          ...         ...         ...         ...         ...         ...   \n",
       "495  134.656595  139.211765  139.417387  143.825585  142.332012  139.273091   \n",
       "496  135.855892  141.018403  141.269151  146.000778  144.407229  140.918486   \n",
       "497  130.907200  135.245910  135.436334  139.736821  138.275975  135.361774   \n",
       "498  136.632577  141.190069  141.395429  145.799867  144.307809  141.251840   \n",
       "499  136.076914  140.413313  140.602371  144.887652  143.432500  140.532668   \n",
       "\n",
       "            6           7           8           9    ...         490  \\\n",
       "0     10.841607    1.139272    1.457447   12.347582  ...    0.906434   \n",
       "1      0.534664   11.942377   12.270921    1.204214  ...   10.304091   \n",
       "2      1.273083   12.716654   13.043179    0.414887  ...   11.089143   \n",
       "3      8.325258   19.944386   20.275380    6.939579  ...   18.283335   \n",
       "4      5.999164   17.609789   17.939442    4.593258  ...   15.957946   \n",
       "..          ...         ...         ...         ...  ...         ...   \n",
       "495  139.409952  133.567949  133.319788  139.398409  ...  134.835835   \n",
       "496  141.187097  134.748544  134.485674  141.274467  ...  136.089497   \n",
       "497  135.453831  129.826437  129.583911  135.409316  ...  131.066489   \n",
       "498  141.388393  135.543666  135.295302  141.376286  ...  136.812460   \n",
       "499  140.622013  134.995681  134.752805  140.574561  ...  136.237199   \n",
       "\n",
       "            491         492         493         494         495         496  \\\n",
       "0     11.886846   17.379170    0.653704   10.494195  134.656595  135.855892   \n",
       "1      1.456485    6.219338   11.453389    0.712429  139.211765  141.018403   \n",
       "2      1.486515    5.466375   12.231907    1.514755  139.417387  141.269151   \n",
       "3      7.322643    1.791568   19.448450    8.689845  143.825585  146.000778   \n",
       "4      5.063995    0.562539   17.117114    6.354823  142.332012  144.407229   \n",
       "..          ...         ...         ...         ...         ...         ...   \n",
       "495  140.668055  142.745906  134.002891  139.022968    0.000000    8.427271   \n",
       "496  142.470813  144.842111  135.203412  140.789542    8.427271    0.000000   \n",
       "497  136.702387  138.682881  130.253672  135.070702    4.795034   12.267375   \n",
       "498  142.646366  144.721409  135.978873  141.001455    1.978751    8.333693   \n",
       "499  141.869782  143.838270  135.423367  140.239180    3.210013   11.277176   \n",
       "\n",
       "            497         498         499  \n",
       "0    130.907200  136.632577  136.076914  \n",
       "1    135.245910  141.190069  140.413313  \n",
       "2    135.436334  141.395429  140.602371  \n",
       "3    139.736821  145.799867  144.887652  \n",
       "4    138.275975  144.307809  143.432500  \n",
       "..          ...         ...         ...  \n",
       "495    4.795034    1.978751    3.210013  \n",
       "496   12.267375    8.333693   11.277176  \n",
       "497    0.000000    6.517464    5.172392  \n",
       "498    6.517464    0.000000    3.055867  \n",
       "499    5.172392    3.055867    0.000000  \n",
       "\n",
       "[500 rows x 500 columns]"
      ]
     },
     "execution_count": 12,
     "metadata": {},
     "output_type": "execute_result"
    }
   ],
   "source": [
    "from sklearn.cluster import DBSCAN\n",
    "from sklearn.metrics.pairwise import euclidean_distances\n",
    "Distance_pairwise = pd.DataFrame(euclidean_distances(p,p)) \n",
    "Distance_pairwise"
   ]
  },
  {
   "cell_type": "code",
   "execution_count": 13,
   "metadata": {},
   "outputs": [
    {
     "data": {
      "image/png": "[encoded data removed]",
      "text/plain": [
       "<Figure size 1440x720 with 1 Axes>"
      ]
     },
     "metadata": {
      "needs_background": "light"
     },
     "output_type": "display_data"
    }
   ],
   "source": [
    "from sklearn.neighbors import NearestNeighbors\n",
    "neigh = NearestNeighbors(n_neighbors=2)\n",
    "neighbor_s = neigh.fit(p[[0,1]])\n",
    "dists, indices = neighbor_s.kneighbors(p[[0,1]])\n",
    "dists = np.sort(dists, axis=0)\n",
    "dists = dists[:,1]\n",
    "plt.figure(figsize=(20,10))\n",
    "plt.plot(dists)\n",
    "plt.title('K-distance Graph',fontsize=20)\n",
    "plt.xlabel('Data Points sorted by distance',fontsize=14)\n",
    "plt.ylabel('Epsilon',fontsize=14)\n",
    "plt.grid()\n",
    "plt.show()\n"
   ]
  },
  {
   "cell_type": "markdown",
   "metadata": {},
   "source": [
    "### From above graph for epsilon value curvature is around 3"
   ]
  },
  {
   "cell_type": "code",
   "execution_count": 14,
   "metadata": {},
   "outputs": [
    {
     "name": "stdout",
     "output_type": "stream",
     "text": [
      "[0 1 2]\n"
     ]
    },
    {
     "data": {
      "text/plain": [
       "<matplotlib.collections.PathCollection at 0x22269454160>"
      ]
     },
     "execution_count": 14,
     "metadata": {},
     "output_type": "execute_result"
    },
    {
     "data": {
      "image/png": "[encoded data removed]",
      "text/plain": [
       "<Figure size 432x288 with 1 Axes>"
      ]
     },
     "metadata": {
      "needs_background": "light"
     },
     "output_type": "display_data"
    }
   ],
   "source": [
    "data_points=p.shape[0]\n",
    "label = [-1]*data_points \n",
    "visited = [0]*data_points \n",
    "\n",
    "Minimum_points = 3  \n",
    "epsilon =3\n",
    "cid = 0\n",
    "\n",
    "for i in range(data_points):\n",
    "    if visited[i] == 0:\n",
    "        visited[i] = 1 \n",
    "        friends = Distance_pairwise[Distance_pairwise[i] <  epsilon].index.tolist() \n",
    "        if len(friends) -1 >= epsilon: \n",
    "            cid += 1\n",
    "            label[i] = cid\n",
    "            for friend in friends:\n",
    "                if friend != i: \n",
    "                    if visited[friend] == 0:\n",
    "                        visited[friend] = 1\n",
    "                        commonFriends = Distance_pairwise[Distance_pairwise[friend] <  epsilon].index.tolist() \n",
    "                        if len(commonFriends) -1 >= epsilon: \n",
    "                            friends.extend(commonFriends)\n",
    "                        if label[friend] == -1:\n",
    "                            label[friend] = cid\n",
    "        else:\n",
    "            label[i] = 0 \n",
    "print(np.unique(label))\n",
    "plt.scatter(p.iloc[:, 0], p.iloc[:, 1], c= label )"
   ]
  },
  {
   "cell_type": "markdown",
   "metadata": {},
   "source": [
    " According to my observation both KMEANS and DBSCAN perform well on dataset2\n"
   ]
  },
  {
   "cell_type": "markdown",
   "metadata": {},
   "source": [
    "# DBSCAN"
   ]
  },
  {
   "cell_type": "markdown",
   "metadata": {},
   "source": [
    "pros\n",
    "1. It does not need a predefined number of clusters i.e, not require an initial specification of the number of clusters.\n",
    "\n",
    "2. Basically, clusters can be of any random shape and size, including non-spherical ones.\n",
    "\n",
    "3. It is able to identify noise data, popularly known as outliers.\n",
    "\n",
    "cons\n",
    "\n",
    "1. DBSCAN clustering will fail when there are no density drops between clusters.\n",
    "\n",
    "2. It seems to be difficult to detect outlier or noisy points if there is a variation in the density of the clusters.\n",
    "\n",
    "3. It is sensitive to parameters i.e. it’s hard to determine the correct set of parameters.\n",
    "\n",
    "\n"
   ]
  },
  {
   "cell_type": "markdown",
   "metadata": {},
   "source": [
    "# KMEANS"
   ]
  },
  {
   "cell_type": "markdown",
   "metadata": {},
   "source": [
    "pros\n",
    "1.  Easy to implement k-means and identify unknown groups of data from complex data sets. \n",
    "2.  K-means algorithm can easily adjust to the changes. If there are any problems, adjusting the cluster segment will allow changes to easily occur on the algorithm.\n",
    "\n",
    "3. K-means is suitable for a large number of datasets and it’s computed much faster than the smaller dataset. It can also produce higher clusters.\n",
    "\n",
    "4. The algorithm used is good at segmenting the large data set. Its efficiency depends on the shape of the clusters. K-means works well in hyper-spherical clusters.\n",
    "\n",
    "cons\n",
    "1. K-means doesn’t allow the formation of an optimal set of clusters and for effective results, it is not possible to decide clusters before\n",
    "2. K-means clustering gives varying results on different runs of an algorithm. A random choice of cluster patterns yields different clustering results resulting in inconsistency.\n",
    "\n",
    "3. It produces clusters with uniform sizes even when the input data has different sizes.\n",
    "\n",
    "4. The way in which data is ordered in building the algorithm Effects the final results of the data set\n",
    "    \n",
    "    "
   ]
  },
  {
   "cell_type": "code",
   "execution_count": null,
   "metadata": {},
   "outputs": [],
   "source": []
  }
 ],
 "metadata": {
  "kernelspec": {
   "display_name": "Python 3",
   "language": "python",
   "name": "python3"
  },
  "language_info": {
   "codemirror_mode": {
    "name": "ipython",
    "version": 3
   },
   "file_extension": ".py",
   "mimetype": "text/x-python",
   "name": "python",
   "nbconvert_exporter": "python",
   "pygments_lexer": "ipython3",
   "version": "3.6.10"
  }
 },
 "nbformat": 4,
 "nbformat_minor": 5
}
